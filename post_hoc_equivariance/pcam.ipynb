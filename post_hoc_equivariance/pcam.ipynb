{
 "cells": [
  {
   "cell_type": "code",
   "execution_count": 1,
   "metadata": {},
   "outputs": [],
   "source": [
    "import torch\n",
    "import torchvision.transforms as tvtf\n",
    "import sys\n",
    "sys.path.append('..')\n",
    "from datasets import PCam\n",
    "import timm\n",
    "import torch.nn as nn\n",
    "from tqdm import tqdm\n",
    "from post_hoc_equivariant import *"
   ]
  },
  {
   "cell_type": "code",
   "execution_count": 2,
   "metadata": {},
   "outputs": [
    {
     "name": "stdout",
     "output_type": "stream",
     "text": [
      "Total length of the dataset: 32768\n",
      "Reduced length of the dataset: 163\n",
      "Total length of the dataset: 32768\n",
      "Reduced length of the dataset: 327\n"
     ]
    }
   ],
   "source": [
    "data_mean = [0., 0., 0.]  # Your mean values\n",
    "data_stddev = [1., 1., 1.]  # Your standard deviation values\n",
    "\n",
    "transform_test = tvtf.Compose([\n",
    "    tvtf.Resize(96, interpolation=tvtf.InterpolationMode.BICUBIC),  # Resize the image to 96x96 using bicubic interpolation\n",
    "    tvtf.CenterCrop(96),  # Center crop the image to 96x96\n",
    "    tvtf.ToTensor(),  # Convert the image to a PyTorch tensor\n",
    "    tvtf.Normalize(mean=data_mean, std=data_stddev)  # Normalize the tensor\n",
    "])\n",
    "\n",
    "validation_set = PCam(root=\"../data\", train=False, valid=True, download=True, transform=transform_test, data_fraction=0.005)\n",
    "test_set = PCam(root=\"../data\", train=False, download=True, transform=transform_test, data_fraction=0.01)\n",
    "\n",
    "val_loader = torch.utils.data.DataLoader(\n",
    "    validation_set,\n",
    "    batch_size=128,\n",
    "    shuffle=False,\n",
    "    num_workers=4,\n",
    ")\n",
    "test_loader = torch.utils.data.DataLoader(\n",
    "    test_set,\n",
    "    batch_size=1,\n",
    "    shuffle=False,\n",
    "    num_workers=4,\n",
    ")"
   ]
  },
  {
   "cell_type": "code",
   "execution_count": 33,
   "metadata": {},
   "outputs": [],
   "source": [
    "class PretrainedResnet50(nn.Module):\n",
    "\n",
    "    def __init__(self):\n",
    "        super().__init__()\n",
    "        # https://huggingface.co/1aurent/resnet50.tiatoolbox-pcam/\n",
    "        model = timm.create_model(model_name=\"hf-hub:1aurent/resnet50.tiatoolbox-pcam\", pretrained=True)\n",
    "        self.layers_before_last_linear = nn.Sequential(*list(model.children())[:-1])\n",
    "        self.mlp_head = nn.Sequential(list(model.children())[-1])\n",
    "\n",
    "    def forward(self, x, output_cls=False):\n",
    "        cls = self.layers_before_last_linear(x)\n",
    "        if output_cls:\n",
    "            return cls\n",
    "        logits = self.mlp_head(cls)\n",
    "        return logits"
   ]
  },
  {
   "cell_type": "code",
   "execution_count": 43,
   "metadata": {},
   "outputs": [],
   "source": [
    "model = PretrainedResnet50()"
   ]
  },
  {
   "cell_type": "code",
   "execution_count": 44,
   "metadata": {},
   "outputs": [
    {
     "name": "stderr",
     "output_type": "stream",
     "text": [
      "100%|██████████| 3/3 [00:10<00:00,  3.51s/it]"
     ]
    },
    {
     "name": "stdout",
     "output_type": "stream",
     "text": [
      "83.79204892966361\n"
     ]
    },
    {
     "name": "stderr",
     "output_type": "stream",
     "text": [
      "\n"
     ]
    }
   ],
   "source": [
    "model.eval()\n",
    "correct = total = 0\n",
    "with torch.no_grad():  # disable gradient calculation during inference\n",
    "    for inputs, labels in tqdm(test_loader):\n",
    "        outputs = model(inputs)\n",
    "        _, predicted = torch.max(outputs, 1)\n",
    "        total += labels.size(0)\n",
    "        correct += (predicted == labels).sum().item()\n",
    "    test_acc = 100 * correct / total\n",
    "    print(test_acc)"
   ]
  },
  {
   "cell_type": "code",
   "execution_count": 48,
   "metadata": {},
   "outputs": [],
   "source": [
    "# mean pooling\n",
    "model = model.eval()\n",
    "eq_model_mean = PostHocEquivariantMean(model, n_rotations=4, flips=True)"
   ]
  },
  {
   "cell_type": "code",
   "execution_count": 49,
   "metadata": {},
   "outputs": [
    {
     "name": "stderr",
     "output_type": "stream",
     "text": [
      "100%|██████████| 3/3 [01:45<00:00, 35.04s/it]"
     ]
    },
    {
     "name": "stdout",
     "output_type": "stream",
     "text": [
      "85.62691131498471\n"
     ]
    },
    {
     "name": "stderr",
     "output_type": "stream",
     "text": [
      "\n"
     ]
    }
   ],
   "source": [
    "eq_model_mean.eval()\n",
    "correct = total = 0\n",
    "with torch.no_grad():  # disable gradient calculation during inference\n",
    "    for inputs, labels in tqdm(test_loader):\n",
    "        outputs = eq_model_mean(inputs)\n",
    "        _, predicted = torch.max(outputs, 1)\n",
    "        total += labels.size(0)\n",
    "        correct += (predicted == labels).sum().item()\n",
    "    test_acc = 100 * correct / total\n",
    "    print(test_acc)"
   ]
  },
  {
   "cell_type": "code",
   "execution_count": 38,
   "metadata": {},
   "outputs": [],
   "source": [
    "# max pooling\n",
    "model = model.eval()\n",
    "eq_model_max = PostHocEquivariantMax(model, n_rotations=4, flips=True)"
   ]
  },
  {
   "cell_type": "code",
   "execution_count": 39,
   "metadata": {},
   "outputs": [
    {
     "name": "stderr",
     "output_type": "stream",
     "text": [
      "100%|██████████| 3/3 [01:40<00:00, 33.37s/it]"
     ]
    },
    {
     "name": "stdout",
     "output_type": "stream",
     "text": [
      "85.62691131498471\n"
     ]
    },
    {
     "name": "stderr",
     "output_type": "stream",
     "text": [
      "\n"
     ]
    }
   ],
   "source": [
    "eq_model_max.eval()\n",
    "correct = total = 0\n",
    "with torch.no_grad():  # disable gradient calculation during inference\n",
    "    for inputs, labels in tqdm(test_loader):\n",
    "        outputs = eq_model_max(inputs)\n",
    "        _, predicted = torch.max(outputs, 1)\n",
    "        total += labels.size(0)\n",
    "        correct += (predicted == labels).sum().item()\n",
    "    test_acc = 100 * correct / total\n",
    "    print(test_acc)\n"
   ]
  }
 ],
 "metadata": {
  "kernelspec": {
   "display_name": "myenv",
   "language": "python",
   "name": "python3"
  },
  "language_info": {
   "codemirror_mode": {
    "name": "ipython",
    "version": 3
   },
   "file_extension": ".py",
   "mimetype": "text/x-python",
   "name": "python",
   "nbconvert_exporter": "python",
   "pygments_lexer": "ipython3",
   "version": "3.10.14"
  }
 },
 "nbformat": 4,
 "nbformat_minor": 2
}
