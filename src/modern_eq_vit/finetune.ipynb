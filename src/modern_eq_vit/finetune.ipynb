{
 "cells": [
  {
   "cell_type": "code",
   "execution_count": 1,
   "metadata": {},
   "outputs": [
    {
     "name": "stdout",
     "output_type": "stream",
     "text": [
      "/teamspace/studios/this_studio/GEVit-DL2-Project/src/modern_eq_vit\n"
     ]
    },
    {
     "name": "stderr",
     "output_type": "stream",
     "text": [
      "/home/zeus/miniconda3/envs/cloudspace/lib/python3.10/site-packages/IPython/core/magics/osm.py:417: UserWarning: using dhist requires you to install the `pickleshare` library.\n",
      "  self.shell.db['dhist'] = compress_dhist(dhist)[-100:]\n"
     ]
    }
   ],
   "source": [
    "%cd GEVit-DL2-Project/src/modern_eq_vit/"
   ]
  },
  {
   "cell_type": "code",
   "execution_count": 2,
   "metadata": {},
   "outputs": [],
   "source": [
    "import sys\n",
    "sys.path.append(\"..\")\n",
    "import models\n",
    "from g_selfatt import utils\n",
    "import g_selfatt.groups as groups\n",
    "from datasets import MNIST_rot, PCam\n",
    "\n",
    "import torch\n",
    "import torch.nn as nn\n",
    "import torchvision.transforms as tvtf\n",
    "import torchvision.transforms.functional as TF\n",
    "from torch.optim.lr_scheduler import StepLR,LambdaLR\n",
    "\n",
    "import os\n",
    "import copy\n",
    "import math\n",
    "import wandb\n",
    "import random\n",
    "import argparse\n",
    "from tqdm import tqdm\n",
    "from torch.cuda.amp import GradScaler, autocast"
   ]
  },
  {
   "cell_type": "code",
   "execution_count": 3,
   "metadata": {},
   "outputs": [],
   "source": [
    "device = torch.device('cuda' if torch.cuda.is_available() else 'cpu')"
   ]
  },
  {
   "cell_type": "code",
   "execution_count": 4,
   "metadata": {},
   "outputs": [],
   "source": [
    "class CustomRotation(object):\n",
    "    def __init__(self, angles):\n",
    "        self.angles = angles\n",
    "\n",
    "    def __call__(self, img):\n",
    "        angle = random.choice(self.angles)\n",
    "        return tvtf.functional.rotate(img, angle)"
   ]
  },
  {
   "cell_type": "code",
   "execution_count": 5,
   "metadata": {},
   "outputs": [],
   "source": [
    "data_mean = (0.701, 0.538, 0.692)\n",
    "data_stddev = (0.235, 0.277, 0.213)\n",
    "transform_train = tvtf.Compose([\n",
    "    CustomRotation([0, 90, 180, 270]),\n",
    "    tvtf.RandomHorizontalFlip(),  # Random horizontal flip with a probability of 0.5\n",
    "    tvtf.RandomVerticalFlip(),\n",
    "    tvtf.ToTensor(),\n",
    "    tvtf.Normalize(data_mean, data_stddev)\n",
    "])\n",
    "\n",
    "transform_test = tvtf.Compose(\n",
    "    [\n",
    "        tvtf.ToTensor(),\n",
    "        tvtf.Normalize(data_mean, data_stddev),\n",
    "    ]\n",
    ")\n",
    "\n",
    "train_set = PCam(root=\"../data\", train=True, download=True, transform=transform_train, data_fraction=1)\n",
    "validation_set = PCam(root=\"../data\", train=False, valid=True, download=True, transform=transform_test, data_fraction=1)\n",
    "test_set = PCam(root=\"../data\", train=False, download=True, transform=transform_test)\n",
    "\n",
    "batch_size = 256 #64 #if (args.modern_vit) else 16\n",
    "train_loader = torch.utils.data.DataLoader(\n",
    "    train_set,\n",
    "    batch_size=batch_size,\n",
    "    shuffle=True,\n",
    "    num_workers=8,\n",
    "    drop_last=True,\n",
    ")\n",
    "val_loader = torch.utils.data.DataLoader(\n",
    "    validation_set,\n",
    "    batch_size=batch_size,\n",
    "    shuffle=True,\n",
    "    num_workers=8,\n",
    ")\n",
    "test_loader = torch.utils.data.DataLoader(\n",
    "    test_set,\n",
    "    batch_size=batch_size,\n",
    "    shuffle=False,\n",
    "    num_workers=8,\n",
    ")"
   ]
  },
  {
   "cell_type": "code",
   "execution_count": null,
   "metadata": {},
   "outputs": [],
   "source": [
    "set_seed(42)"
   ]
  },
  {
   "cell_type": "code",
   "execution_count": null,
   "metadata": {},
   "outputs": [],
   "source": [
    "kernel_size = 5\n",
    "hidden_channels = 8\n",
    "num_hidden = 8  \n",
    "\n",
    "gcnn = models.get_gcnn(order=4,\n",
    "    in_channels=3,\n",
    "    out_channels=hidden_channels,\n",
    "    kernel_size=kernel_size,\n",
    "    num_hidden=num_hidden,\n",
    "    hidden_channels=hidden_channels) \n",
    "\n",
    "group_transformer = models.GroupTransformer(\n",
    "    group=groups.SE2(num_elements=4),\n",
    "    in_channels=gcnn.out_channels,\n",
    "    num_channels=20,\n",
    "    block_sizes=[2, 3],\n",
    "    expansion_per_block=0,\n",
    "    crop_per_layer=[1, 0, 0, 0, 0], \n",
    "    image_size=gcnn.output_dimensionality,\n",
    "    num_classes=2,\n",
    "    dropout_rate_after_maxpooling=0.0,\n",
    "    maxpool_after_last_block=True,\n",
    "    normalize_between_layers=True,\n",
    "    patch_size=5,\n",
    "    num_heads=9,\n",
    "    norm_type=\"LayerNorm\",\n",
    "    activation_function=\"Swish\",\n",
    "    attention_dropout_rate=0.1,\n",
    "    value_dropout_rate=0.1,\n",
    "    whitening_scale=1.41421356,\n",
    ")\n",
    "\n",
    "model = models.Hybrid(gcnn, group_transformer).to(device)"
   ]
  },
  {
   "cell_type": "code",
   "execution_count": null,
   "metadata": {},
   "outputs": [],
   "source": [
    "model.load_state_dict(torch.load(\"saved/modern_eq_vit.pt\"))"
   ]
  },
  {
   "cell_type": "code",
   "execution_count": null,
   "metadata": {},
   "outputs": [],
   "source": [
    "optimizer = torch.optim.SGD(model.parameters(), 0.00001)  # 0.001 works well here for floris model"
   ]
  },
  {
   "cell_type": "code",
   "execution_count": null,
   "metadata": {},
   "outputs": [],
   "source": [
    "scaler = GradScaler()\n",
    "    criterion = torch.nn.CrossEntropyLoss()\n",
    "    best_model = copy.deepcopy(model.state_dict())"
   ]
  },
  {
   "cell_type": "code",
   "execution_count": null,
   "metadata": {},
   "outputs": [],
   "source": [
    "model.train()\n",
    "losses = []\n",
    "for inputs, labels in tqdm(train_loader):\n",
    "    inputs, labels = inputs.to(device), labels.to(device)  # Move inputs and labels to device\n",
    "    # smoothed_labels = labels * smoothing[1] + (1 - labels) * smoothing[0]\n",
    "\n",
    "    optimizer.zero_grad()\n",
    "    with torch.set_grad_enabled(True):\n",
    "        with autocast():  # Sets autocast in the main thread. It handles mixed precision in the forward pass.\n",
    "            outputs = model(inputs)\n",
    "            # print(model.gcnn)\n",
    "            # print(outputs.shape)\n",
    "            print(outputs[0:5,:])\n",
    "            loss = criterion(outputs, labels)\n",
    "\n",
    "        if loss.item() != loss.item():\n",
    "            continue\n",
    "        # Scales loss.  Calls backward() on scaled loss to create scaled gradients.\n",
    "        scaler.scale(loss).backward()\n",
    "        # scaler.step() first unscales the gradients of the optimizer's assigned params.\n",
    "        scaler.step(optimizer)\n",
    "        # Updates the scale for next iteration.\n",
    "        scaler.update()\n",
    "        print(loss.item())\n",
    "        # print(model.project.weight.grad)\n",
    "        lr_scheduler.step()"
   ]
  },
  {
   "cell_type": "code",
   "execution_count": null,
   "metadata": {},
   "outputs": [],
   "source": [
    "positive = negative = total = correct = TP = TN = FP = FN = 0\n",
    "model.eval()\n",
    "with torch.no_grad():  # Disable gradient calculation during inference\n",
    "    for inputs, labels in val_loader:\n",
    "        inputs, labels = inputs.to(device), labels.to(device)  # Move inputs and labels to device\n",
    "        outputs = model(inputs)\n",
    "        _, predicted = torch.max(outputs.data, 1)\n",
    "\n",
    "        # Update total and correct counters\n",
    "        total += labels.size(0)\n",
    "        correct += (predicted == labels).sum().item()\n",
    "        negative += (labels == 0).sum().item()\n",
    "        positive += (labels == 1).sum().item()\n",
    "\n",
    "        # Update TP, TN, FP, FN counters\n",
    "        TP += ((predicted == 1) & (labels == 1)).sum().item()\n",
    "        TN += ((predicted == 0) & (labels == 0)).sum().item()\n",
    "        FP += ((predicted == 1) & (labels == 0)).sum().item()\n",
    "        FN += ((predicted == 0) & (labels == 1)).sum().item()\n",
    "\n",
    "# Calculate accuracy\n",
    "accuracy = 100 * correct / total\n",
    "if accuracy > best_val_acc:\n",
    "    best_model = copy.deepcopy(model.state_dict())\n",
    "    best_val_acc = accuracy\n",
    "\n",
    "TP_percentage = 100 * TP / positive\n",
    "TN_percentage = 100 * TN / negative\n",
    "FP_percentage = 100 * FP / positive\n",
    "FN_percentage = 100 * FN / negative\n",
    "\n",
    "# Calculate precision and recall\n",
    "precision = 100 * TP / (TP + FP) if (TP + FP) > 0 else 0\n",
    "recall = 100 * TP / (TP + FN) if (TP + FN) > 0 else 0"
   ]
  },
  {
   "cell_type": "code",
   "execution_count": null,
   "metadata": {},
   "outputs": [],
   "source": [
    "model.eval()  # Set the model to evaluation mode\n",
    "correct = 0\n",
    "total = 0\n",
    "with torch.no_grad():  # Disable gradient calculation during inference\n",
    "    for inputs, labels in test_loader:\n",
    "        inputs, labels = inputs.to(device), labels.to(device)  # Move inputs and labels to device\n",
    "        outputs = model(inputs)\n",
    "        _, predicted = torch.max(outputs.data, 1)\n",
    "        total += labels.size(0)\n",
    "        correct += (predicted == labels).sum().item()\n",
    "test_acc = 100 * correct / total\n",
    "\n",
    "\n",
    "# save model and log it\n",
    "model.load_state_dict(best_model)\n",
    "torch.save(model.state_dict(), \"saved/finetuned.pt\")"
   ]
  }
 ],
 "metadata": {
  "kernelspec": {
   "display_name": "cloudspace",
   "language": "python",
   "name": "python3"
  },
  "language_info": {
   "codemirror_mode": {
    "name": "ipython",
    "version": 3
   },
   "file_extension": ".py",
   "mimetype": "text/x-python",
   "name": "python",
   "nbconvert_exporter": "python",
   "pygments_lexer": "ipython3",
   "version": "3.10.10"
  }
 },
 "nbformat": 4,
 "nbformat_minor": 2
}
