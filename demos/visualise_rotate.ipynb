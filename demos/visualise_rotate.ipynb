{
 "cells": [
  {
   "cell_type": "code",
   "execution_count": 35,
   "metadata": {},
   "outputs": [],
   "source": [
    "# Import correct path\n",
    "import os,sys\n",
    "g_selfatt_source =  os.path.join(os.getcwd(), '..')\n",
    "if g_selfatt_source not in sys.path:\n",
    "    sys.path.append(g_selfatt_source)\n",
    "    \n",
    "g_selfatt_source_2 = os.path.join(g_selfatt_source, 'src')\n",
    "if g_selfatt_source_2 not in sys.path:\n",
    "    sys.path.append(g_selfatt_source_2)"
   ]
  },
  {
   "cell_type": "code",
   "execution_count": 36,
   "metadata": {},
   "outputs": [],
   "source": [
    "import matplotlib.pyplot as plt\n",
    "import numpy as np\n",
    "import torch\n",
    "import torchvision\n",
    "from datasets import MNIST_rot\n",
    "import torchvision.transforms.functional as TF\n",
    "from PIL import Image, ImageOps\n",
    "import models\n",
    "import g_selfatt.groups as groups"
   ]
  },
  {
   "cell_type": "code",
   "execution_count": 37,
   "metadata": {},
   "outputs": [],
   "source": [
    "# First create a dataloader with batchsize one\n",
    "data_mean = (0.1307,)\n",
    "data_stddev = (0.3081,)\n",
    "\n",
    "transform_test = torchvision.transforms.Compose(\n",
    "    [\n",
    "        torchvision.transforms.ToTensor(),\n",
    "        torchvision.transforms.Normalize(data_mean, data_stddev),\n",
    "    ]\n",
    ")\n",
    "transform_test_visual = torchvision.transforms.ToTensor()\n",
    "test_set = MNIST_rot(root=\"../data\", stage=\"train\", download=True, transform=transform_test, data_fraction=1, only_3_and_8=True)\n",
    "test_set_visual = MNIST_rot(root=\"../data\", stage=\"train\", download=True, transform=transform_test_visual, data_fraction=1, only_3_and_8=True)\n",
    "test_loader = torch.utils.data.DataLoader(\n",
    "    test_set,\n",
    "    batch_size=1,\n",
    "    shuffle=False,\n",
    "    num_workers=4,\n",
    ")\n",
    "test_loader_visual = torch.utils.data.DataLoader(\n",
    "    test_set_visual,\n",
    "    batch_size=1,\n",
    "    shuffle=False,\n",
    "    num_workers=4,\n",
    ")"
   ]
  },
  {
   "cell_type": "markdown",
   "metadata": {},
   "source": [
    "Now get one data image and push it through the model"
   ]
  },
  {
   "cell_type": "code",
   "execution_count": 38,
   "metadata": {},
   "outputs": [
    {
     "name": "stderr",
     "output_type": "stream",
     "text": [
      "/Users/jasper/opt/anaconda3/envs/MAIN_environment/lib/python3.8/site-packages/torchvision/io/image.py:13: UserWarning: Failed to load image Python extension: 'dlopen(/Users/jasper/opt/anaconda3/envs/MAIN_environment/lib/python3.8/site-packages/torchvision/image.so, 0x0006): Symbol not found: __ZN3c106detail19maybe_wrap_dim_slowIxEET_S2_S2_b\n",
      "  Referenced from: <870081F6-12FD-3CEA-BC5C-30F4764F2A98> /Users/jasper/opt/anaconda3/envs/MAIN_environment/lib/python3.8/site-packages/torchvision/image.so\n",
      "  Expected in:     <F2FE5CF8-5B5B-3FAD-ADF8-C77D90F49FC9> /Users/jasper/opt/anaconda3/envs/MAIN_environment/lib/python3.8/site-packages/torch/lib/libc10.dylib'If you don't plan on using image functionality from `torchvision.io`, you can ignore this warning. Otherwise, there might be something wrong with your environment. Did you have `libjpeg` or `libpng` installed before building `torchvision` from source?\n",
      "  warn(\n",
      "/Users/jasper/opt/anaconda3/envs/MAIN_environment/lib/python3.8/site-packages/torchvision/io/image.py:13: UserWarning: Failed to load image Python extension: 'dlopen(/Users/jasper/opt/anaconda3/envs/MAIN_environment/lib/python3.8/site-packages/torchvision/image.so, 0x0006): Symbol not found: __ZN3c106detail19maybe_wrap_dim_slowIxEET_S2_S2_b\n",
      "  Referenced from: <870081F6-12FD-3CEA-BC5C-30F4764F2A98> /Users/jasper/opt/anaconda3/envs/MAIN_environment/lib/python3.8/site-packages/torchvision/image.so\n",
      "  Expected in:     <F2FE5CF8-5B5B-3FAD-ADF8-C77D90F49FC9> /Users/jasper/opt/anaconda3/envs/MAIN_environment/lib/python3.8/site-packages/torch/lib/libc10.dylib'If you don't plan on using image functionality from `torchvision.io`, you can ignore this warning. Otherwise, there might be something wrong with your environment. Did you have `libjpeg` or `libpng` installed before building `torchvision` from source?\n",
      "  warn(\n",
      "/Users/jasper/opt/anaconda3/envs/MAIN_environment/lib/python3.8/site-packages/torchvision/io/image.py:13: UserWarning: Failed to load image Python extension: 'dlopen(/Users/jasper/opt/anaconda3/envs/MAIN_environment/lib/python3.8/site-packages/torchvision/image.so, 0x0006): Symbol not found: __ZN3c106detail19maybe_wrap_dim_slowIxEET_S2_S2_b\n",
      "  Referenced from: <870081F6-12FD-3CEA-BC5C-30F4764F2A98> /Users/jasper/opt/anaconda3/envs/MAIN_environment/lib/python3.8/site-packages/torchvision/image.so\n",
      "  Expected in:     <F2FE5CF8-5B5B-3FAD-ADF8-C77D90F49FC9> /Users/jasper/opt/anaconda3/envs/MAIN_environment/lib/python3.8/site-packages/torch/lib/libc10.dylib'If you don't plan on using image functionality from `torchvision.io`, you can ignore this warning. Otherwise, there might be something wrong with your environment. Did you have `libjpeg` or `libpng` installed before building `torchvision` from source?\n",
      "  warn(\n",
      "/Users/jasper/opt/anaconda3/envs/MAIN_environment/lib/python3.8/site-packages/torchvision/io/image.py:13: UserWarning: Failed to load image Python extension: 'dlopen(/Users/jasper/opt/anaconda3/envs/MAIN_environment/lib/python3.8/site-packages/torchvision/image.so, 0x0006): Symbol not found: __ZN3c106detail19maybe_wrap_dim_slowIxEET_S2_S2_b\n",
      "  Referenced from: <870081F6-12FD-3CEA-BC5C-30F4764F2A98> /Users/jasper/opt/anaconda3/envs/MAIN_environment/lib/python3.8/site-packages/torchvision/image.so\n",
      "  Expected in:     <F2FE5CF8-5B5B-3FAD-ADF8-C77D90F49FC9> /Users/jasper/opt/anaconda3/envs/MAIN_environment/lib/python3.8/site-packages/torch/lib/libc10.dylib'If you don't plan on using image functionality from `torchvision.io`, you can ignore this warning. Otherwise, there might be something wrong with your environment. Did you have `libjpeg` or `libpng` installed before building `torchvision` from source?\n",
      "  warn(\n",
      "/Users/jasper/opt/anaconda3/envs/MAIN_environment/lib/python3.8/site-packages/torchvision/io/image.py:13: UserWarning: Failed to load image Python extension: 'dlopen(/Users/jasper/opt/anaconda3/envs/MAIN_environment/lib/python3.8/site-packages/torchvision/image.so, 0x0006): Symbol not found: __ZN3c106detail19maybe_wrap_dim_slowIxEET_S2_S2_b\n",
      "  Referenced from: <870081F6-12FD-3CEA-BC5C-30F4764F2A98> /Users/jasper/opt/anaconda3/envs/MAIN_environment/lib/python3.8/site-packages/torchvision/image.so\n",
      "  Expected in:     <F2FE5CF8-5B5B-3FAD-ADF8-C77D90F49FC9> /Users/jasper/opt/anaconda3/envs/MAIN_environment/lib/python3.8/site-packages/torch/lib/libc10.dylib'If you don't plan on using image functionality from `torchvision.io`, you can ignore this warning. Otherwise, there might be something wrong with your environment. Did you have `libjpeg` or `libpng` installed before building `torchvision` from source?\n",
      "  warn(\n",
      "/Users/jasper/opt/anaconda3/envs/MAIN_environment/lib/python3.8/site-packages/torchvision/io/image.py:13: UserWarning: Failed to load image Python extension: 'dlopen(/Users/jasper/opt/anaconda3/envs/MAIN_environment/lib/python3.8/site-packages/torchvision/image.so, 0x0006): Symbol not found: __ZN3c106detail19maybe_wrap_dim_slowIxEET_S2_S2_b\n",
      "  Referenced from: <870081F6-12FD-3CEA-BC5C-30F4764F2A98> /Users/jasper/opt/anaconda3/envs/MAIN_environment/lib/python3.8/site-packages/torchvision/image.so\n",
      "  Expected in:     <F2FE5CF8-5B5B-3FAD-ADF8-C77D90F49FC9> /Users/jasper/opt/anaconda3/envs/MAIN_environment/lib/python3.8/site-packages/torch/lib/libc10.dylib'If you don't plan on using image functionality from `torchvision.io`, you can ignore this warning. Otherwise, there might be something wrong with your environment. Did you have `libjpeg` or `libpng` installed before building `torchvision` from source?\n",
      "  warn(\n",
      "/Users/jasper/opt/anaconda3/envs/MAIN_environment/lib/python3.8/site-packages/torchvision/io/image.py:13: UserWarning: Failed to load image Python extension: 'dlopen(/Users/jasper/opt/anaconda3/envs/MAIN_environment/lib/python3.8/site-packages/torchvision/image.so, 0x0006): Symbol not found: __ZN3c106detail19maybe_wrap_dim_slowIxEET_S2_S2_b\n",
      "  Referenced from: <870081F6-12FD-3CEA-BC5C-30F4764F2A98> /Users/jasper/opt/anaconda3/envs/MAIN_environment/lib/python3.8/site-packages/torchvision/image.so\n",
      "  Expected in:     <F2FE5CF8-5B5B-3FAD-ADF8-C77D90F49FC9> /Users/jasper/opt/anaconda3/envs/MAIN_environment/lib/python3.8/site-packages/torch/lib/libc10.dylib'If you don't plan on using image functionality from `torchvision.io`, you can ignore this warning. Otherwise, there might be something wrong with your environment. Did you have `libjpeg` or `libpng` installed before building `torchvision` from source?\n",
      "  warn(\n",
      "/Users/jasper/opt/anaconda3/envs/MAIN_environment/lib/python3.8/site-packages/torchvision/io/image.py:13: UserWarning: Failed to load image Python extension: 'dlopen(/Users/jasper/opt/anaconda3/envs/MAIN_environment/lib/python3.8/site-packages/torchvision/image.so, 0x0006): Symbol not found: __ZN3c106detail19maybe_wrap_dim_slowIxEET_S2_S2_b\n",
      "  Referenced from: <870081F6-12FD-3CEA-BC5C-30F4764F2A98> /Users/jasper/opt/anaconda3/envs/MAIN_environment/lib/python3.8/site-packages/torchvision/image.so\n",
      "  Expected in:     <F2FE5CF8-5B5B-3FAD-ADF8-C77D90F49FC9> /Users/jasper/opt/anaconda3/envs/MAIN_environment/lib/python3.8/site-packages/torch/lib/libc10.dylib'If you don't plan on using image functionality from `torchvision.io`, you can ignore this warning. Otherwise, there might be something wrong with your environment. Did you have `libjpeg` or `libpng` installed before building `torchvision` from source?\n",
      "  warn(\n"
     ]
    }
   ],
   "source": [
    "# Get datapoint\n",
    "data = iter(test_loader)\n",
    "data_visual = iter(test_loader_visual)\n",
    "for _ in range(19): #Cherry picked the 20th image\n",
    "    image, idx = next(data)\n",
    "    image_visual, idx_visual = next(data_visual)"
   ]
  },
  {
   "cell_type": "code",
   "execution_count": 39,
   "metadata": {},
   "outputs": [],
   "source": [
    "image_plot = image.squeeze()  # Batch dimension\n",
    "plt.imshow(image_plot.cpu().numpy(), cmap=\"gray\")\n",
    "plt.show()"
   ]
  },
  {
   "cell_type": "markdown",
   "metadata": {},
   "source": [
    "### Load the model"
   ]
  },
  {
   "cell_type": "code",
   "execution_count": 40,
   "metadata": {},
   "outputs": [],
   "source": [
    "# # Wrong\n",
    "\n",
    "# model = models.GroupTransformer(\n",
    "#     group=groups.E2(num_elements=8),\n",
    "#     in_channels=1,\n",
    "#     num_channels=20,\n",
    "#     block_sizes=[2, 3],\n",
    "#     expansion_per_block=1,\n",
    "#     crop_per_layer=[2, 0, 2, 1, 1],\n",
    "#     image_size=28,\n",
    "#     num_classes=2,\n",
    "#     dropout_rate_after_maxpooling=0.0,\n",
    "#     maxpool_after_last_block=False,\n",
    "#     normalize_between_layers=False,\n",
    "#     patch_size=5,\n",
    "#     num_heads=9,\n",
    "#     norm_type=\"LayerNorm\",\n",
    "#     activation_function=\"Swish\",\n",
    "#     attention_dropout_rate=0.1,\n",
    "#     value_dropout_rate=0.1,\n",
    "#     whitening_scale=1.41421356,\n",
    "# )\n",
    "# model_path = \"../src/saved/results/rotMNIST_model_p4msa_type_Local_patch_5_dpatt_0.1_dpval_0.1_activ_Swish_norm_LayerNorm_white_1.41421356_optim_Adam_lr_0.001_bs_16_ep_50_wd_0.0001_seed_0_sched_constants_schdec_1.0.pt\"\n",
    "# device = torch.device('cuda' if torch.cuda.is_available() else 'cpu')\n",
    "# model = torch.nn.DataParallel(model)\n",
    "# model.load_state_dict(torch.load(model_path, map_location=device), strict=False)"
   ]
  },
  {
   "cell_type": "code",
   "execution_count": 41,
   "metadata": {},
   "outputs": [
    {
     "name": "stdout",
     "output_type": "stream",
     "text": [
      "The working directory is /Users/jasper/Library/CloudStorage/GoogleDrive-jasper.eppink@gmail.com/My Drive/Documents/school/Master/AI/Jaar 1/Deep Learning 2/Project/Project git MAIN/GEVit-DL2-Project/demos\n"
     ]
    },
    {
     "data": {
      "text/plain": [
       "<All keys matched successfully>"
      ]
     },
     "execution_count": 41,
     "metadata": {},
     "output_type": "execute_result"
    }
   ],
   "source": [
    "# Load model with 10 classes\n",
    "\n",
    "model = models.GroupTransformer(\n",
    "    group=groups.SE2(num_elements=4),\n",
    "    in_channels=1,\n",
    "    num_channels=20,\n",
    "    block_sizes=[2, 3],\n",
    "    expansion_per_block=1,\n",
    "    crop_per_layer=[2, 0, 2, 1, 1],\n",
    "    image_size=28,\n",
    "    num_classes=10,\n",
    "    dropout_rate_after_maxpooling=0.0,\n",
    "    maxpool_after_last_block=False,\n",
    "    normalize_between_layers=False,\n",
    "    patch_size=5,\n",
    "    num_heads=9,\n",
    "    norm_type=\"LayerNorm\",\n",
    "    activation_function=\"Swish\",\n",
    "    attention_dropout_rate=0.1,\n",
    "    value_dropout_rate=0.1,\n",
    "    whitening_scale=1.41421356,\n",
    ")\n",
    "\n",
    "print(f\"The working directory is {os.getcwd()}\")\n",
    "model_path = \"Checkpoints_visualisations_rotations/rotMNIST_model_p4sa_type_Local_patch_5_dpatt_0.1_dpval_0.1_activ_Swish_norm_LayerNorm_white_1.41421356_optim_Adam_lr_0.0005_bs_64_ep_500_wd_0.0001_seed_0_sched_constants_schdec_1.0.pt\"\n",
    "device = torch.device('cuda' if torch.cuda.is_available() else 'cpu')\n",
    "model = torch.nn.DataParallel(model)\n",
    "model.load_state_dict(torch.load(model_path, map_location=device), strict=False)"
   ]
  },
  {
   "cell_type": "code",
   "execution_count": 42,
   "metadata": {},
   "outputs": [],
   "source": [
    "def rotate_image(image, degree, show=False):\n",
    "    \"\"\" Returns all transformations of the input images \"\"\"\n",
    "    # First change image from tensor to PIL\n",
    "    image = image.squeeze()\n",
    "    image = image.cpu().numpy()\n",
    "    image = Image.fromarray(image)\n",
    "    \n",
    "    transform = TF.rotate(image, degree, interpolation=TF.InterpolationMode.BILINEAR)\n",
    "\n",
    "    # Now convert back to tensor\n",
    "    transform = TF.to_tensor(transform)\n",
    "    transform = transform.squeeze()\n",
    "    if show:\n",
    "        plt.imshow(transform.cpu().numpy(), cmap=\"gray\")\n",
    "        plt.show()\n",
    "\n",
    "\n",
    "    return transform  # C, H, W"
   ]
  },
  {
   "cell_type": "markdown",
   "metadata": {},
   "source": [
    "## Now create the visualisation of the digit with the slider for GE-VIT"
   ]
  },
  {
   "cell_type": "code",
   "execution_count": 43,
   "metadata": {},
   "outputs": [],
   "source": [
    "#%matplotlib widget\n",
    "#!conda install jupyter-matplotlib\n",
    "def get_output_gevit(image, model, device):\n",
    "    \"\"\" Returns the output of the model for the input image \"\"\"\n",
    "    model.eval()\n",
    "    with torch.no_grad():\n",
    "        output = model(image.to(device))\n",
    "        probs = torch.softmax(output, dim=1)\n",
    "        prob_values = probs.cpu().numpy()\n",
    "        prob_values = prob_values.squeeze()\n",
    "    return prob_values"
   ]
  },
  {
   "cell_type": "code",
   "execution_count": 44,
   "metadata": {},
   "outputs": [],
   "source": [
    "#%matplotlib widget"
   ]
  },
  {
   "cell_type": "code",
   "execution_count": 45,
   "metadata": {},
   "outputs": [
    {
     "data": {
      "image/png": "[encoded data removed]",
      "text/plain": [
       "<Figure size 1000x500 with 3 Axes>"
      ]
     },
     "metadata": {},
     "output_type": "display_data"
    }
   ],
   "source": [
    "from matplotlib.widgets import Button, Slider\n",
    "\n",
    "# The image I want to show rotated is image, now I want to create a slider that rotates the image\n",
    "fig, (ax1, ax2) = plt.subplots(1, 2, figsize=(10, 5))\n",
    "plt.subplots_adjust(bottom=0.25)\n",
    "\n",
    "# Left image\n",
    "degree = 0\n",
    "rotated_image = rotate_image(image, degree)\n",
    "image_plot = ax1.imshow(rotated_image.cpu().numpy(), cmap=\"gray\")\n",
    "ax1.set_title(\"Degree: {}\".format(degree))\n",
    "\n",
    "\n",
    "# Right barplot image\n",
    "prob_values = get_output_gevit(image, model, device)\n",
    "barplot = ax2.bar(list(range(len(prob_values))), prob_values)\n",
    "\n",
    "# Set the labels and title\n",
    "ax2.set_xlabel('Index')\n",
    "ax2.set_ylabel('Probability')\n",
    "ax2.set_title('Probability')\n",
    "ax2.yaxis.set_ticks(np.arange(0, 1.1, 0.1))\n",
    "ax2.set_ylim([0, 1])\n",
    "ax2.xaxis.set_ticks(np.arange(0, 10, 1))\n",
    "\n",
    "# Set a title for the figure\n",
    "fig.suptitle(\"Effect image rotation GE-ViT model\")\n",
    "\n",
    "\n",
    "# Define the slider update function\n",
    "def update_rotation(val):\n",
    "    degree = val\n",
    "    rotated_image = rotate_image(image, degree)\n",
    "    image_plot.set_data(rotated_image.cpu().numpy())\n",
    "    updated_prob_values = get_output_gevit(rotated_image.unsqueeze(0).unsqueeze(0), model, device)\n",
    "    for bar, value in zip(barplot, updated_prob_values):\n",
    "        bar.set_height(value)\n",
    "    \n",
    "    ax1.set_title(\"Degree: {}\".format(degree))\n",
    "    fig.canvas.draw_idle()\n",
    "\n",
    "# Create the slider\n",
    "slider_ax = plt.axes([0.2, 0.1, 0.6, 0.03])\n",
    "slider = Slider(slider_ax, 'Rotation', -180, 180, valinit=degree)\n",
    "slider.on_changed(update_rotation)\n",
    "\n",
    "plt.show()"
   ]
  },
  {
   "cell_type": "markdown",
   "metadata": {},
   "source": [
    "### Now for the standard vision transformer"
   ]
  },
  {
   "cell_type": "code",
   "execution_count": 46,
   "metadata": {},
   "outputs": [],
   "source": [
    "from src.train_vit import VisionTransformer"
   ]
  },
  {
   "cell_type": "code",
   "execution_count": 47,
   "metadata": {},
   "outputs": [],
   "source": [
    "# Load the normal vision transformer\n",
    "model_vit = VisionTransformer(embed_dim=64,\n",
    "                        hidden_dim=512,\n",
    "                        num_heads=4,\n",
    "                        num_layers=6,\n",
    "                        patch_size=4,\n",
    "                        num_channels=1,\n",
    "                        num_patches=49,\n",
    "                        num_classes=10,\n",
    "                        dropout=0.1).to(device)\n",
    "\n",
    "model_path = \"Checkpoints_visualisations_rotations/mnist_2555_ViT.pt\"\n",
    "model_vit.load_state_dict(torch.load(model_path, map_location=device), strict=False)\n",
    "\n",
    "\n",
    "def get_output_ViT(image, model_vit, device):\n",
    "    \"\"\" Returns the output of the model for the input image \"\"\"\n",
    "    model_vit.eval()\n",
    "    with torch.no_grad():\n",
    "        output = model_vit(image.to(device))\n",
    "        probs = torch.softmax(output, dim=1)\n",
    "        prob_values = probs.cpu().numpy()\n",
    "        prob_values = prob_values.squeeze()\n",
    "    return prob_values"
   ]
  },
  {
   "cell_type": "code",
   "execution_count": 48,
   "metadata": {},
   "outputs": [],
   "source": [
    "# The image I want to show rotated is image, now I want to create a slider that rotates the image\n",
    "fig, (ax1, ax2) = plt.subplots(1, 2, figsize=(10, 5))\n",
    "plt.subplots_adjust(bottom=0.25)\n",
    "\n",
    "# Left image\n",
    "degree = 0\n",
    "rotated_image = rotate_image(image, degree)\n",
    "image_plot = ax1.imshow(rotated_image.cpu().numpy(), cmap=\"gray\")\n",
    "ax1.set_title(\"Degree: {}\".format(degree))\n",
    "\n",
    "\n",
    "# Right barplot image\n",
    "prob_values = get_output_ViT(image, model_vit, device)\n",
    "barplot = ax2.bar(list(range(len(prob_values))), prob_values)\n",
    "\n",
    "# Set the labels and title\n",
    "ax2.set_xlabel('Index')\n",
    "ax2.set_ylabel('Probability')\n",
    "ax2.set_title('Probability')\n",
    "ax2.yaxis.set_ticks(np.arange(0, 1.1, 0.1))\n",
    "ax2.set_ylim([0, 1])\n",
    "ax2.xaxis.set_ticks(np.arange(0, 10, 1))\n",
    "\n",
    "# Set a title for the figure\n",
    "fig.suptitle(\"Effect image vision transformer model\")\n",
    "\n",
    "\n",
    "# Define the slider update function\n",
    "def update_rotation(val):\n",
    "    degree = val\n",
    "    rotated_image = rotate_image(image, degree)\n",
    "    image_plot.set_data(rotated_image.cpu().numpy())\n",
    "    updated_prob_values = get_output_ViT(rotated_image.unsqueeze(0).unsqueeze(0), model_vit, device)\n",
    "    for bar, value in zip(barplot, updated_prob_values):\n",
    "        bar.set_height(value)\n",
    "    \n",
    "    ax1.set_title(\"Degree: {}\".format(degree))\n",
    "    fig.canvas.draw_idle()\n",
    "\n",
    "# Create the slider\n",
    "slider_ax = plt.axes([0.2, 0.1, 0.6, 0.03])\n",
    "slider = Slider(slider_ax, 'Rotation', -180, 180, valinit=degree)\n",
    "slider.on_changed(update_rotation)\n",
    "\n",
    "plt.show()"
   ]
  },
  {
   "cell_type": "markdown",
   "metadata": {},
   "source": [
    "### Now in one figure"
   ]
  },
  {
   "cell_type": "code",
   "execution_count": 49,
   "metadata": {},
   "outputs": [],
   "source": [
    "fig = plt.figure(figsize=(10, 7))\n",
    "\n",
    "# Create the gridspec \n",
    "gs = fig.add_gridspec(2, 2, width_ratios=[2, 1], height_ratios=[1, 1], hspace=0.5, wspace=0.3)\n",
    "ax1 = fig.add_subplot(gs[:, 0])\n",
    "ax2 = fig.add_subplot(gs[0, 1])\n",
    "ax3 = fig.add_subplot(gs[1, 1])\n",
    "\n",
    "# Left image\n",
    "degree = 0\n",
    "rotated_image = rotate_image(image, degree)\n",
    "image_plot = ax1.imshow(rotated_image.cpu().numpy(), cmap=\"gray\")\n",
    "ax1.set_title(\"Degree: {}\".format(degree))\n",
    "\n",
    "# Right barplot image GE-ViT\n",
    "prob_values = get_output_gevit(image, model, device)\n",
    "barplot1 = ax2.bar(list(range(len(prob_values))), prob_values)\n",
    "ax2.set_xlabel('Number')\n",
    "ax2.set_ylabel('Probability')\n",
    "ax2.set_title('GE-ViT')\n",
    "ax2.yaxis.set_ticks(np.arange(0, 1.1, 0.1))\n",
    "ax2.set_ylim([0, 1])\n",
    "ax2.xaxis.set_ticks(np.arange(0, 10, 1))\n",
    "\n",
    "# Right barplot image lower vision transformer\n",
    "prob_values = get_output_ViT(image, model_vit, device)\n",
    "barplot2 = ax3.bar(list(range(len(prob_values))), prob_values)\n",
    "ax3.set_xlabel('Number')\n",
    "ax3.set_ylabel('Probability')\n",
    "ax3.set_title('Vision Transformer')\n",
    "ax3.yaxis.set_ticks(np.arange(0, 1.1, 0.1))\n",
    "ax3.set_ylim([0, 1])\n",
    "ax3.xaxis.set_ticks(np.arange(0, 10, 1))\n",
    "\n",
    "# Set a title for the figure\n",
    "fig.suptitle(\"Effect image rotation GE-ViT and Vision Transformer model\")\n",
    "\n",
    "# Define the slider update function\n",
    "def update_rotation(val):\n",
    "    degree = val\n",
    "    rotated_image = rotate_image(image, degree)\n",
    "    image_plot.set_data(rotated_image.cpu().numpy())\n",
    "    updated_prob_values_gevit = get_output_gevit(rotated_image.unsqueeze(0).unsqueeze(0), model, device)\n",
    "    updated_prob_values_vit = get_output_ViT(rotated_image.unsqueeze(0).unsqueeze(0), model_vit, device)\n",
    "    for bar1, value1, bar2, value2 in zip(barplot1, updated_prob_values_gevit, barplot2, updated_prob_values_vit):\n",
    "        bar1.set_height(value1)\n",
    "        bar2.set_height(value2)\n",
    "    \n",
    "    ax1.set_title(\"Degree: {}\".format(degree))\n",
    "    fig.canvas.draw_idle()\n",
    "    \n",
    "# Create the slider\n",
    "slider_ax = plt.axes([0.2, 0.1, 0.6, 0.03])\n",
    "slider = Slider(slider_ax, 'Rotation', 0, 360, valinit=degree)\n",
    "slider.on_changed(update_rotation)\n",
    "\n",
    "plt.subplots_adjust(bottom=0.25)\n",
    "plt.show()"
   ]
  },
  {
   "cell_type": "code",
   "execution_count": 50,
   "metadata": {},
   "outputs": [],
   "source": [
    "for degree in range(360):\n",
    "    fig = plt.figure(figsize=(10, 7))\n",
    "\n",
    "    # Create the gridspec \n",
    "    gs = fig.add_gridspec(2, 2, width_ratios=[2, 1], height_ratios=[1, 1], hspace=0.3, wspace=0.3)\n",
    "    ax1 = fig.add_subplot(gs[:, 0])\n",
    "    ax2 = fig.add_subplot(gs[0, 1])\n",
    "    ax3 = fig.add_subplot(gs[1, 1])\n",
    "\n",
    "    # Left image\n",
    "    rotated_image = rotate_image(image, degree)\n",
    "    rotated_image_visual = rotate_image(image_visual, degree)\n",
    "    image_plot = ax1.imshow(rotated_image_visual.cpu().numpy(), cmap=\"gray\")\n",
    "    ax1.set_title(\"Degree: {}\".format(degree))\n",
    "\n",
    "    # Right barplot image GE-ViT\n",
    "    prob_values = get_output_gevit(rotated_image.unsqueeze(0).unsqueeze(0), model, device)\n",
    "    barplot1 = ax2.bar(list(range(len(prob_values))), prob_values)\n",
    "    ax2.set_xlabel('Number')\n",
    "    ax2.set_ylabel('Probability')\n",
    "    ax2.set_title('GE-ViT')\n",
    "    ax2.yaxis.set_ticks(np.arange(0, 1.1, 0.1))\n",
    "    ax2.set_ylim([0, 1])\n",
    "    ax2.xaxis.set_ticks(np.arange(0, 10, 1))\n",
    "\n",
    "    # Right barplot image lower vision transformer\n",
    "    prob_values = get_output_ViT(rotated_image.unsqueeze(0).unsqueeze(0), model_vit, device)\n",
    "    barplot2 = ax3.bar(list(range(len(prob_values))), prob_values)\n",
    "    ax3.set_xlabel('Number')\n",
    "    ax3.set_ylabel('Probability')\n",
    "    ax3.set_title('Vision Transformer')\n",
    "    ax3.yaxis.set_ticks(np.arange(0, 1.1, 0.1))\n",
    "    ax3.set_ylim([0, 1])\n",
    "    ax3.xaxis.set_ticks(np.arange(0, 10, 1))\n",
    "\n",
    "    # Set a title for the figure\n",
    "    fig.suptitle(\"Effect image rotation GE-ViT and Vision Transformer model\")\n",
    "    \n",
    "    # Lastly save every degree in the following folder /Users/jasper/Downloads/Video_rotations\n",
    "    plt.savefig(f\"/Users/jasper/Downloads/Video_rotations/rotation_{degree}.png\")\n",
    "    plt.close()"
   ]
  },
  {
   "cell_type": "code",
   "execution_count": 51,
   "metadata": {},
   "outputs": [],
   "source": [
    "rotated_image = rotate_image(image, degree)\n",
    "updated_prob_values_vit = get_output_ViT(rotated_image.unsqueeze(0).unsqueeze(0), model_vit, device)"
   ]
  },
  {
   "cell_type": "code",
   "execution_count": null,
   "metadata": {},
   "outputs": [],
   "source": []
  },
  {
   "cell_type": "code",
   "execution_count": null,
   "metadata": {},
   "outputs": [],
   "source": []
  }
 ],
 "metadata": {
  "kernelspec": {
   "display_name": "Python 3 (ipykernel)",
   "language": "python",
   "name": "python3"
  },
  "language_info": {
   "codemirror_mode": {
    "name": "ipython",
    "version": 3
   },
   "file_extension": ".py",
   "mimetype": "text/x-python",
   "name": "python",
   "nbconvert_exporter": "python",
   "pygments_lexer": "ipython3",
   "version": "3.8.18"
  }
 },
 "nbformat": 4,
 "nbformat_minor": 2
}
