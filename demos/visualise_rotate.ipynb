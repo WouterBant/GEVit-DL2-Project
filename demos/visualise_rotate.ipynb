{
 "cells": [
  {
   "cell_type": "code",
   "execution_count": 3,
   "metadata": {},
   "outputs": [],
   "source": [
    "# Import correct path\n",
    "import os,sys\n",
    "g_selfatt_source =  os.path.join(os.getcwd(), '..')\n",
    "if g_selfatt_source not in sys.path:\n",
    "    sys.path.append(g_selfatt_source)\n",
    "    \n",
    "g_selfatt_source_2 = os.path.join(g_selfatt_source, 'src')\n",
    "if g_selfatt_source_2 not in sys.path:\n",
    "    sys.path.append(g_selfatt_source_2)"
   ]
  },
  {
   "cell_type": "code",
   "execution_count": 10,
   "metadata": {},
   "outputs": [],
   "source": [
    "import matplotlib.pyplot as plt\n",
    "import numpy as np\n",
    "import torch\n",
    "import torchvision\n",
    "from datasets import MNIST_rot\n",
    "import torchvision.transforms.functional as TF\n",
    "from PIL import Image, ImageOps\n",
    "import models\n",
    "import g_selfatt.groups as groups"
   ]
  },
  {
   "cell_type": "code",
   "execution_count": 7,
   "metadata": {},
   "outputs": [],
   "source": [
    "# First create a dataloader with batchsize one\n",
    "data_mean = (0.1307,)\n",
    "data_stddev = (0.3081,)\n",
    "transform_test = torchvision.transforms.Compose(\n",
    "    [\n",
    "        torchvision.transforms.ToTensor(),\n",
    "        torchvision.transforms.Normalize(data_mean, data_stddev),\n",
    "    ]\n",
    ")\n",
    "test_set = MNIST_rot(root=\"../data\", stage=\"train\", download=True, transform=transform_test, data_fraction=1, only_3_and_8=True)\n",
    "test_loader = torch.utils.data.DataLoader(\n",
    "    test_set,\n",
    "    batch_size=1,\n",
    "    shuffle=False,\n",
    "    num_workers=4,\n",
    ")"
   ]
  },
  {
   "cell_type": "markdown",
   "metadata": {},
   "source": [
    "Now get one data image and push it through the model"
   ]
  },
  {
   "cell_type": "code",
   "execution_count": 8,
   "metadata": {},
   "outputs": [
    {
     "name": "stderr",
     "output_type": "stream",
     "text": [
      "/Users/jasper/opt/anaconda3/envs/MAIN_environment/lib/python3.8/site-packages/torchvision/io/image.py:13: UserWarning: Failed to load image Python extension: 'dlopen(/Users/jasper/opt/anaconda3/envs/MAIN_environment/lib/python3.8/site-packages/torchvision/image.so, 0x0006): Symbol not found: __ZN3c106detail19maybe_wrap_dim_slowIxEET_S2_S2_b\n",
      "  Referenced from: <870081F6-12FD-3CEA-BC5C-30F4764F2A98> /Users/jasper/opt/anaconda3/envs/MAIN_environment/lib/python3.8/site-packages/torchvision/image.so\n",
      "  Expected in:     <F2FE5CF8-5B5B-3FAD-ADF8-C77D90F49FC9> /Users/jasper/opt/anaconda3/envs/MAIN_environment/lib/python3.8/site-packages/torch/lib/libc10.dylib'If you don't plan on using image functionality from `torchvision.io`, you can ignore this warning. Otherwise, there might be something wrong with your environment. Did you have `libjpeg` or `libpng` installed before building `torchvision` from source?\n",
      "  warn(\n",
      "/Users/jasper/opt/anaconda3/envs/MAIN_environment/lib/python3.8/site-packages/torchvision/io/image.py:13: UserWarning: Failed to load image Python extension: 'dlopen(/Users/jasper/opt/anaconda3/envs/MAIN_environment/lib/python3.8/site-packages/torchvision/image.so, 0x0006): Symbol not found: __ZN3c106detail19maybe_wrap_dim_slowIxEET_S2_S2_b\n",
      "  Referenced from: <870081F6-12FD-3CEA-BC5C-30F4764F2A98> /Users/jasper/opt/anaconda3/envs/MAIN_environment/lib/python3.8/site-packages/torchvision/image.so\n",
      "  Expected in:     <F2FE5CF8-5B5B-3FAD-ADF8-C77D90F49FC9> /Users/jasper/opt/anaconda3/envs/MAIN_environment/lib/python3.8/site-packages/torch/lib/libc10.dylib'If you don't plan on using image functionality from `torchvision.io`, you can ignore this warning. Otherwise, there might be something wrong with your environment. Did you have `libjpeg` or `libpng` installed before building `torchvision` from source?\n",
      "  warn(\n",
      "/Users/jasper/opt/anaconda3/envs/MAIN_environment/lib/python3.8/site-packages/torchvision/io/image.py:13: UserWarning: Failed to load image Python extension: 'dlopen(/Users/jasper/opt/anaconda3/envs/MAIN_environment/lib/python3.8/site-packages/torchvision/image.so, 0x0006): Symbol not found: __ZN3c106detail19maybe_wrap_dim_slowIxEET_S2_S2_b\n",
      "  Referenced from: <870081F6-12FD-3CEA-BC5C-30F4764F2A98> /Users/jasper/opt/anaconda3/envs/MAIN_environment/lib/python3.8/site-packages/torchvision/image.so\n",
      "  Expected in:     <F2FE5CF8-5B5B-3FAD-ADF8-C77D90F49FC9> /Users/jasper/opt/anaconda3/envs/MAIN_environment/lib/python3.8/site-packages/torch/lib/libc10.dylib'If you don't plan on using image functionality from `torchvision.io`, you can ignore this warning. Otherwise, there might be something wrong with your environment. Did you have `libjpeg` or `libpng` installed before building `torchvision` from source?\n",
      "  warn(\n",
      "/Users/jasper/opt/anaconda3/envs/MAIN_environment/lib/python3.8/site-packages/torchvision/io/image.py:13: UserWarning: Failed to load image Python extension: 'dlopen(/Users/jasper/opt/anaconda3/envs/MAIN_environment/lib/python3.8/site-packages/torchvision/image.so, 0x0006): Symbol not found: __ZN3c106detail19maybe_wrap_dim_slowIxEET_S2_S2_b\n",
      "  Referenced from: <870081F6-12FD-3CEA-BC5C-30F4764F2A98> /Users/jasper/opt/anaconda3/envs/MAIN_environment/lib/python3.8/site-packages/torchvision/image.so\n",
      "  Expected in:     <F2FE5CF8-5B5B-3FAD-ADF8-C77D90F49FC9> /Users/jasper/opt/anaconda3/envs/MAIN_environment/lib/python3.8/site-packages/torch/lib/libc10.dylib'If you don't plan on using image functionality from `torchvision.io`, you can ignore this warning. Otherwise, there might be something wrong with your environment. Did you have `libjpeg` or `libpng` installed before building `torchvision` from source?\n",
      "  warn(\n"
     ]
    }
   ],
   "source": [
    "# Get datapoint\n",
    "data = iter(test_loader)\n",
    "for _ in range(19): #Cherry picked the 12th image\n",
    "    image, idx = next(data)"
   ]
  },
  {
   "cell_type": "code",
   "execution_count": 9,
   "metadata": {},
   "outputs": [
    {
     "data": {
      "image/png": "[encoded data removed]",
      "text/plain": [
       "<Figure size 640x480 with 1 Axes>"
      ]
     },
     "metadata": {},
     "output_type": "display_data"
    }
   ],
   "source": [
    "image = image.squeeze()  # Batch dimension\n",
    "plt.imshow(image.cpu().numpy(), cmap=\"gray\")\n",
    "plt.show()"
   ]
  },
  {
   "cell_type": "code",
   "execution_count": 16,
   "metadata": {},
   "outputs": [
    {
     "name": "stdout",
     "output_type": "stream",
     "text": [
      "The working directory is /Users/jasper/Library/CloudStorage/GoogleDrive-jasper.eppink@gmail.com/My Drive/Documents/school/Master/AI/Jaar 1/Deep Learning 2/Project/Project git MAIN/GEVit-DL2-Project/demos\n"
     ]
    },
    {
     "data": {
      "text/plain": [
       "<All keys matched successfully>"
      ]
     },
     "execution_count": 16,
     "metadata": {},
     "output_type": "execute_result"
    }
   ],
   "source": [
    "# Now import GE-ViT of the models and run it on the image\n",
    "model = models.GroupTransformer(\n",
    "    group=groups.E2(num_elements=8),\n",
    "    in_channels=1,\n",
    "    num_channels=20,\n",
    "    block_sizes=[2, 3],\n",
    "    expansion_per_block=1,\n",
    "    crop_per_layer=[2, 0, 2, 1, 1],\n",
    "    image_size=28,\n",
    "    num_classes=2,\n",
    "    dropout_rate_after_maxpooling=0.0,\n",
    "    maxpool_after_last_block=False,\n",
    "    normalize_between_layers=False,\n",
    "    patch_size=5,\n",
    "    num_heads=9,\n",
    "    norm_type=\"LayerNorm\",\n",
    "    activation_function=\"Swish\",\n",
    "    attention_dropout_rate=0.1,\n",
    "    value_dropout_rate=0.1,\n",
    "    whitening_scale=1.41421356,\n",
    ")\n",
    "print(f\"The working directory is {os.getcwd()}\")\n",
    "model_path = \"../src/saved/results/rotMNIST_model_p4msa_type_Local_patch_5_dpatt_0.1_dpval_0.1_activ_Swish_norm_LayerNorm_white_1.41421356_optim_Adam_lr_0.001_bs_16_ep_50_wd_0.0001_seed_0_sched_constants_schdec_1.0.pt\"\n",
    "device = torch.device('cuda' if torch.cuda.is_available() else 'cpu')\n",
    "model = torch.nn.DataParallel(model)\n",
    "model.load_state_dict(torch.load(model_path, map_location=device), strict=False)"
   ]
  },
  {
   "cell_type": "code",
   "execution_count": 7,
   "metadata": {},
   "outputs": [],
   "source": [
    "def rotate_image(image, degree, show=False):\n",
    "    \"\"\" Returns all transformations of the input images \"\"\"\n",
    "    # First change image from tensor to PIL\n",
    "    image = image.squeeze()\n",
    "    image = image.cpu().numpy()\n",
    "    image = Image.fromarray(image)\n",
    "    \n",
    "    transform = TF.rotate(image, degree)\n",
    "\n",
    "    # Now convert back to tensor\n",
    "    transform = TF.to_tensor(transform)\n",
    "    transform = transform.squeeze()\n",
    "    if show:\n",
    "        plt.imshow(transform.cpu().numpy(), cmap=\"gray\")\n",
    "        plt.show()\n",
    "\n",
    "\n",
    "    return transform  # C, H, W"
   ]
  },
  {
   "cell_type": "markdown",
   "metadata": {},
   "source": [
    "## Now create the visualisation of the digit with the slider"
   ]
  },
  {
   "cell_type": "code",
   "execution_count": 8,
   "metadata": {},
   "outputs": [],
   "source": [
    "#%matplotlib widget\n",
    "#!conda install jupyter-matplotlib"
   ]
  },
  {
   "cell_type": "code",
   "execution_count": 9,
   "metadata": {},
   "outputs": [
    {
     "data": {
      "image/png": "[encoded data removed]",
      "text/plain": [
       "<Figure size 640x480 with 2 Axes>"
      ]
     },
     "metadata": {},
     "output_type": "display_data"
    }
   ],
   "source": [
    "from matplotlib.widgets import Button, Slider\n",
    "\n",
    "# The image I want to show rotated is image, now I want to create a slider that rotates the image\n",
    "fig, ax = plt.subplots()\n",
    "plt.subplots_adjust(bottom=0.2)\n",
    "degree = 0\n",
    "rotated_image = rotate_image(image, degree)\n",
    "image_plot = ax.imshow(rotated_image.cpu().numpy(), cmap=\"gray\")\n",
    "ax.set_title(\"Degree: {}\".format(degree))\n",
    "\n",
    "# Define the slider update function\n",
    "def update_rotation(val):\n",
    "    degree = val\n",
    "    rotated_image = rotate_image(image, degree)\n",
    "    image_plot.set_data(rotated_image.cpu().numpy())\n",
    "    ax.set_title(\"Degree: {}\".format(degree))\n",
    "    fig.canvas.draw_idle()\n",
    "\n",
    "# Create the slider\n",
    "slider_ax = plt.axes([0.2, 0.1, 0.6, 0.03])\n",
    "slider = Slider(slider_ax, 'Rotation', -180, 180, valinit=degree)\n",
    "slider.on_changed(update_rotation)\n",
    "\n",
    "plt.show()"
   ]
  },
  {
   "cell_type": "code",
   "execution_count": null,
   "metadata": {},
   "outputs": [],
   "source": []
  }
 ],
 "metadata": {
  "kernelspec": {
   "display_name": "Python 3 (ipykernel)",
   "language": "python",
   "name": "python3"
  },
  "language_info": {
   "codemirror_mode": {
    "name": "ipython",
    "version": 3
   },
   "file_extension": ".py",
   "mimetype": "text/x-python",
   "name": "python",
   "nbconvert_exporter": "python",
   "pygments_lexer": "ipython3",
   "version": "3.8.8"
  }
 },
 "nbformat": 4,
 "nbformat_minor": 2
}
