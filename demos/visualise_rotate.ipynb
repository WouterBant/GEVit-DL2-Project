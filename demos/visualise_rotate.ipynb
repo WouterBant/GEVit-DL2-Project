{
 "cells": [
  {
   "cell_type": "code",
   "execution_count": 1,
   "metadata": {},
   "outputs": [],
   "source": [
    "# Import correct path\n",
    "import os,sys\n",
    "g_selfatt_source =  os.path.join(os.getcwd(), '..')\n",
    "if g_selfatt_source not in sys.path:\n",
    "    sys.path.append(g_selfatt_source)\n",
    "    \n",
    "g_selfatt_source_2 = os.path.join(g_selfatt_source, 'src')\n",
    "if g_selfatt_source_2 not in sys.path:\n",
    "    sys.path.append(g_selfatt_source_2)"
   ]
  },
  {
   "cell_type": "code",
   "execution_count": 2,
   "metadata": {},
   "outputs": [
    {
     "name": "stderr",
     "output_type": "stream",
     "text": [
      "/Users/jasper/opt/anaconda3/envs/MAIN_environment/lib/python3.8/site-packages/torchvision/io/image.py:13: UserWarning: Failed to load image Python extension: 'dlopen(/Users/jasper/opt/anaconda3/envs/MAIN_environment/lib/python3.8/site-packages/torchvision/image.so, 0x0006): Symbol not found: __ZN3c106detail19maybe_wrap_dim_slowIxEET_S2_S2_b\n",
      "  Referenced from: <870081F6-12FD-3CEA-BC5C-30F4764F2A98> /Users/jasper/opt/anaconda3/envs/MAIN_environment/lib/python3.8/site-packages/torchvision/image.so\n",
      "  Expected in:     <F2FE5CF8-5B5B-3FAD-ADF8-C77D90F49FC9> /Users/jasper/opt/anaconda3/envs/MAIN_environment/lib/python3.8/site-packages/torch/lib/libc10.dylib'If you don't plan on using image functionality from `torchvision.io`, you can ignore this warning. Otherwise, there might be something wrong with your environment. Did you have `libjpeg` or `libpng` installed before building `torchvision` from source?\n",
      "  warn(\n",
      "/Users/jasper/opt/anaconda3/envs/MAIN_environment/lib/python3.8/site-packages/torch/amp/autocast_mode.py:202: UserWarning: User provided device_type of 'cuda', but CUDA is not available. Disabling\n",
      "  warnings.warn('User provided device_type of \\'cuda\\', but CUDA is not available. Disabling')\n"
     ]
    }
   ],
   "source": [
    "import matplotlib.pyplot as plt\n",
    "import numpy as np\n",
    "import torch\n",
    "import torchvision\n",
    "from datasets import MNIST_rot\n",
    "import torchvision.transforms.functional as TF\n",
    "from PIL import Image, ImageOps\n",
    "import models\n",
    "import g_selfatt.groups as groups"
   ]
  },
  {
   "cell_type": "code",
   "execution_count": 3,
   "metadata": {},
   "outputs": [],
   "source": [
    "# First create a dataloader with batchsize one\n",
    "data_mean = (0.1307,)\n",
    "data_stddev = (0.3081,)\n",
    "transform_test = torchvision.transforms.Compose(\n",
    "    [\n",
    "        torchvision.transforms.ToTensor(),\n",
    "        torchvision.transforms.Normalize(data_mean, data_stddev),\n",
    "    ]\n",
    ")\n",
    "test_set = MNIST_rot(root=\"../data\", stage=\"train\", download=True, transform=transform_test, data_fraction=1, only_3_and_8=True)\n",
    "test_loader = torch.utils.data.DataLoader(\n",
    "    test_set,\n",
    "    batch_size=1,\n",
    "    shuffle=False,\n",
    "    num_workers=4,\n",
    ")"
   ]
  },
  {
   "cell_type": "markdown",
   "metadata": {},
   "source": [
    "Now get one data image and push it through the model"
   ]
  },
  {
   "cell_type": "code",
   "execution_count": 4,
   "metadata": {},
   "outputs": [
    {
     "name": "stderr",
     "output_type": "stream",
     "text": [
      "/Users/jasper/opt/anaconda3/envs/MAIN_environment/lib/python3.8/site-packages/torchvision/io/image.py:13: UserWarning: Failed to load image Python extension: 'dlopen(/Users/jasper/opt/anaconda3/envs/MAIN_environment/lib/python3.8/site-packages/torchvision/image.so, 0x0006): Symbol not found: __ZN3c106detail19maybe_wrap_dim_slowIxEET_S2_S2_b\n",
      "  Referenced from: <870081F6-12FD-3CEA-BC5C-30F4764F2A98> /Users/jasper/opt/anaconda3/envs/MAIN_environment/lib/python3.8/site-packages/torchvision/image.so\n",
      "  Expected in:     <F2FE5CF8-5B5B-3FAD-ADF8-C77D90F49FC9> /Users/jasper/opt/anaconda3/envs/MAIN_environment/lib/python3.8/site-packages/torch/lib/libc10.dylib'If you don't plan on using image functionality from `torchvision.io`, you can ignore this warning. Otherwise, there might be something wrong with your environment. Did you have `libjpeg` or `libpng` installed before building `torchvision` from source?\n",
      "  warn(\n",
      "/Users/jasper/opt/anaconda3/envs/MAIN_environment/lib/python3.8/site-packages/torchvision/io/image.py:13: UserWarning: Failed to load image Python extension: 'dlopen(/Users/jasper/opt/anaconda3/envs/MAIN_environment/lib/python3.8/site-packages/torchvision/image.so, 0x0006): Symbol not found: __ZN3c106detail19maybe_wrap_dim_slowIxEET_S2_S2_b\n",
      "  Referenced from: <870081F6-12FD-3CEA-BC5C-30F4764F2A98> /Users/jasper/opt/anaconda3/envs/MAIN_environment/lib/python3.8/site-packages/torchvision/image.so\n",
      "  Expected in:     <F2FE5CF8-5B5B-3FAD-ADF8-C77D90F49FC9> /Users/jasper/opt/anaconda3/envs/MAIN_environment/lib/python3.8/site-packages/torch/lib/libc10.dylib'If you don't plan on using image functionality from `torchvision.io`, you can ignore this warning. Otherwise, there might be something wrong with your environment. Did you have `libjpeg` or `libpng` installed before building `torchvision` from source?\n",
      "  warn(\n",
      "/Users/jasper/opt/anaconda3/envs/MAIN_environment/lib/python3.8/site-packages/torchvision/io/image.py:13: UserWarning: Failed to load image Python extension: 'dlopen(/Users/jasper/opt/anaconda3/envs/MAIN_environment/lib/python3.8/site-packages/torchvision/image.so, 0x0006): Symbol not found: __ZN3c106detail19maybe_wrap_dim_slowIxEET_S2_S2_b\n",
      "  Referenced from: <870081F6-12FD-3CEA-BC5C-30F4764F2A98> /Users/jasper/opt/anaconda3/envs/MAIN_environment/lib/python3.8/site-packages/torchvision/image.so\n",
      "  Expected in:     <F2FE5CF8-5B5B-3FAD-ADF8-C77D90F49FC9> /Users/jasper/opt/anaconda3/envs/MAIN_environment/lib/python3.8/site-packages/torch/lib/libc10.dylib'If you don't plan on using image functionality from `torchvision.io`, you can ignore this warning. Otherwise, there might be something wrong with your environment. Did you have `libjpeg` or `libpng` installed before building `torchvision` from source?\n",
      "  warn(\n",
      "/Users/jasper/opt/anaconda3/envs/MAIN_environment/lib/python3.8/site-packages/torchvision/io/image.py:13: UserWarning: Failed to load image Python extension: 'dlopen(/Users/jasper/opt/anaconda3/envs/MAIN_environment/lib/python3.8/site-packages/torchvision/image.so, 0x0006): Symbol not found: __ZN3c106detail19maybe_wrap_dim_slowIxEET_S2_S2_b\n",
      "  Referenced from: <870081F6-12FD-3CEA-BC5C-30F4764F2A98> /Users/jasper/opt/anaconda3/envs/MAIN_environment/lib/python3.8/site-packages/torchvision/image.so\n",
      "  Expected in:     <F2FE5CF8-5B5B-3FAD-ADF8-C77D90F49FC9> /Users/jasper/opt/anaconda3/envs/MAIN_environment/lib/python3.8/site-packages/torch/lib/libc10.dylib'If you don't plan on using image functionality from `torchvision.io`, you can ignore this warning. Otherwise, there might be something wrong with your environment. Did you have `libjpeg` or `libpng` installed before building `torchvision` from source?\n",
      "  warn(\n"
     ]
    }
   ],
   "source": [
    "# Get datapoint\n",
    "data = iter(test_loader)\n",
    "for _ in range(19): #Cherry picked the 12th image\n",
    "    image, idx = next(data)"
   ]
  },
  {
   "cell_type": "code",
   "execution_count": 5,
   "metadata": {},
   "outputs": [
    {
     "data": {
      "image/png": "[encoded data removed]",
      "text/plain": [
       "<Figure size 640x480 with 1 Axes>"
      ]
     },
     "metadata": {},
     "output_type": "display_data"
    }
   ],
   "source": [
    "image = image.squeeze()  # Batch dimension\n",
    "plt.imshow(image.cpu().numpy(), cmap=\"gray\")\n",
    "plt.show()"
   ]
  },
  {
   "cell_type": "code",
   "execution_count": 10,
   "metadata": {},
   "outputs": [
    {
     "name": "stdout",
     "output_type": "stream",
     "text": [
      "The working directory is /Users/jasper/Library/CloudStorage/GoogleDrive-jasper.eppink@gmail.com/My Drive/Documents/school/Master/AI/Jaar 1/Deep Learning 2/Project/Project git MAIN/GEVit-DL2-Project/demos\n"
     ]
    },
    {
     "ename": "RuntimeError",
     "evalue": "Error(s) in loading state_dict for DataParallel:\n\tsize mismatch for module.group._identity: copying a param with shape torch.Size([1]) from checkpoint, the shape in current model is torch.Size([2]).\n\tsize mismatch for module.group._elements: copying a param with shape torch.Size([4, 1]) from checkpoint, the shape in current model is torch.Size([8, 2]).\n\tsize mismatch for module.group._relative_positions: copying a param with shape torch.Size([4, 4]) from checkpoint, the shape in current model is torch.Size([8, 8]).\n\tsize mismatch for module.lifting_self_attention.row_indices: copying a param with shape torch.Size([4, 5, 5]) from checkpoint, the shape in current model is torch.Size([8, 5, 5]).\n\tsize mismatch for module.lifting_self_attention.col_indices: copying a param with shape torch.Size([4, 5, 5]) from checkpoint, the shape in current model is torch.Size([8, 5, 5]).\n\tsize mismatch for module.lifting_self_attention.group._identity: copying a param with shape torch.Size([1]) from checkpoint, the shape in current model is torch.Size([2]).\n\tsize mismatch for module.lifting_self_attention.group._elements: copying a param with shape torch.Size([4, 1]) from checkpoint, the shape in current model is torch.Size([8, 2]).\n\tsize mismatch for module.lifting_self_attention.group._relative_positions: copying a param with shape torch.Size([4, 4]) from checkpoint, the shape in current model is torch.Size([8, 8]).\n\tsize mismatch for module.transformer.0.attention.2.row_indices: copying a param with shape torch.Size([4, 5, 5]) from checkpoint, the shape in current model is torch.Size([8, 5, 5]).\n\tsize mismatch for module.transformer.0.attention.2.col_indices: copying a param with shape torch.Size([4, 5, 5]) from checkpoint, the shape in current model is torch.Size([8, 5, 5]).\n\tsize mismatch for module.transformer.0.attention.2.g_indices: copying a param with shape torch.Size([4, 4, 4]) from checkpoint, the shape in current model is torch.Size([8, 8, 8]).\n\tsize mismatch for module.transformer.0.attention.2.group._identity: copying a param with shape torch.Size([1]) from checkpoint, the shape in current model is torch.Size([2]).\n\tsize mismatch for module.transformer.0.attention.2.group._elements: copying a param with shape torch.Size([4, 1]) from checkpoint, the shape in current model is torch.Size([8, 2]).\n\tsize mismatch for module.transformer.0.attention.2.group._relative_positions: copying a param with shape torch.Size([4, 4]) from checkpoint, the shape in current model is torch.Size([8, 8]).\n\tsize mismatch for module.transformer.0.attention.2.group_embedding.weight: copying a param with shape torch.Size([4, 4]) from checkpoint, the shape in current model is torch.Size([8, 4]).\n\tsize mismatch for module.transformer.1.attention.2.row_indices: copying a param with shape torch.Size([4, 5, 5]) from checkpoint, the shape in current model is torch.Size([8, 5, 5]).\n\tsize mismatch for module.transformer.1.attention.2.col_indices: copying a param with shape torch.Size([4, 5, 5]) from checkpoint, the shape in current model is torch.Size([8, 5, 5]).\n\tsize mismatch for module.transformer.1.attention.2.g_indices: copying a param with shape torch.Size([4, 4, 4]) from checkpoint, the shape in current model is torch.Size([8, 8, 8]).\n\tsize mismatch for module.transformer.1.attention.2.group._identity: copying a param with shape torch.Size([1]) from checkpoint, the shape in current model is torch.Size([2]).\n\tsize mismatch for module.transformer.1.attention.2.group._elements: copying a param with shape torch.Size([4, 1]) from checkpoint, the shape in current model is torch.Size([8, 2]).\n\tsize mismatch for module.transformer.1.attention.2.group._relative_positions: copying a param with shape torch.Size([4, 4]) from checkpoint, the shape in current model is torch.Size([8, 8]).\n\tsize mismatch for module.transformer.1.attention.2.group_embedding.weight: copying a param with shape torch.Size([4, 4]) from checkpoint, the shape in current model is torch.Size([8, 4]).\n\tsize mismatch for module.transformer.3.attention.2.row_indices: copying a param with shape torch.Size([4, 5, 5]) from checkpoint, the shape in current model is torch.Size([8, 5, 5]).\n\tsize mismatch for module.transformer.3.attention.2.col_indices: copying a param with shape torch.Size([4, 5, 5]) from checkpoint, the shape in current model is torch.Size([8, 5, 5]).\n\tsize mismatch for module.transformer.3.attention.2.g_indices: copying a param with shape torch.Size([4, 4, 4]) from checkpoint, the shape in current model is torch.Size([8, 8, 8]).\n\tsize mismatch for module.transformer.3.attention.2.group._identity: copying a param with shape torch.Size([1]) from checkpoint, the shape in current model is torch.Size([2]).\n\tsize mismatch for module.transformer.3.attention.2.group._elements: copying a param with shape torch.Size([4, 1]) from checkpoint, the shape in current model is torch.Size([8, 2]).\n\tsize mismatch for module.transformer.3.attention.2.group._relative_positions: copying a param with shape torch.Size([4, 4]) from checkpoint, the shape in current model is torch.Size([8, 8]).\n\tsize mismatch for module.transformer.3.attention.2.group_embedding.weight: copying a param with shape torch.Size([4, 4]) from checkpoint, the shape in current model is torch.Size([8, 4]).\n\tsize mismatch for module.transformer.4.attention.2.row_indices: copying a param with shape torch.Size([4, 5, 5]) from checkpoint, the shape in current model is torch.Size([8, 5, 5]).\n\tsize mismatch for module.transformer.4.attention.2.col_indices: copying a param with shape torch.Size([4, 5, 5]) from checkpoint, the shape in current model is torch.Size([8, 5, 5]).\n\tsize mismatch for module.transformer.4.attention.2.g_indices: copying a param with shape torch.Size([4, 4, 4]) from checkpoint, the shape in current model is torch.Size([8, 8, 8]).\n\tsize mismatch for module.transformer.4.attention.2.group._identity: copying a param with shape torch.Size([1]) from checkpoint, the shape in current model is torch.Size([2]).\n\tsize mismatch for module.transformer.4.attention.2.group._elements: copying a param with shape torch.Size([4, 1]) from checkpoint, the shape in current model is torch.Size([8, 2]).\n\tsize mismatch for module.transformer.4.attention.2.group._relative_positions: copying a param with shape torch.Size([4, 4]) from checkpoint, the shape in current model is torch.Size([8, 8]).\n\tsize mismatch for module.transformer.4.attention.2.group_embedding.weight: copying a param with shape torch.Size([4, 4]) from checkpoint, the shape in current model is torch.Size([8, 4]).\n\tsize mismatch for module.transformer.5.attention.2.row_indices: copying a param with shape torch.Size([4, 5, 5]) from checkpoint, the shape in current model is torch.Size([8, 5, 5]).\n\tsize mismatch for module.transformer.5.attention.2.col_indices: copying a param with shape torch.Size([4, 5, 5]) from checkpoint, the shape in current model is torch.Size([8, 5, 5]).\n\tsize mismatch for module.transformer.5.attention.2.g_indices: copying a param with shape torch.Size([4, 4, 4]) from checkpoint, the shape in current model is torch.Size([8, 8, 8]).\n\tsize mismatch for module.transformer.5.attention.2.group._identity: copying a param with shape torch.Size([1]) from checkpoint, the shape in current model is torch.Size([2]).\n\tsize mismatch for module.transformer.5.attention.2.group._elements: copying a param with shape torch.Size([4, 1]) from checkpoint, the shape in current model is torch.Size([8, 2]).\n\tsize mismatch for module.transformer.5.attention.2.group._relative_positions: copying a param with shape torch.Size([4, 4]) from checkpoint, the shape in current model is torch.Size([8, 8]).\n\tsize mismatch for module.transformer.5.attention.2.group_embedding.weight: copying a param with shape torch.Size([4, 4]) from checkpoint, the shape in current model is torch.Size([8, 4]).",
     "output_type": "error",
     "traceback": [
      "\u001b[0;31m---------------------------------------------------------------------------\u001b[0m",
      "\u001b[0;31mRuntimeError\u001b[0m                              Traceback (most recent call last)",
      "Cell \u001b[0;32mIn[10], line 26\u001b[0m\n\u001b[1;32m     24\u001b[0m device \u001b[38;5;241m=\u001b[39m torch\u001b[38;5;241m.\u001b[39mdevice(\u001b[38;5;124m'\u001b[39m\u001b[38;5;124mcuda\u001b[39m\u001b[38;5;124m'\u001b[39m \u001b[38;5;28;01mif\u001b[39;00m torch\u001b[38;5;241m.\u001b[39mcuda\u001b[38;5;241m.\u001b[39mis_available() \u001b[38;5;28;01melse\u001b[39;00m \u001b[38;5;124m'\u001b[39m\u001b[38;5;124mcpu\u001b[39m\u001b[38;5;124m'\u001b[39m)\n\u001b[1;32m     25\u001b[0m model \u001b[38;5;241m=\u001b[39m torch\u001b[38;5;241m.\u001b[39mnn\u001b[38;5;241m.\u001b[39mDataParallel(model)\n\u001b[0;32m---> 26\u001b[0m \u001b[43mmodel\u001b[49m\u001b[38;5;241;43m.\u001b[39;49m\u001b[43mload_state_dict\u001b[49m\u001b[43m(\u001b[49m\u001b[43mtorch\u001b[49m\u001b[38;5;241;43m.\u001b[39;49m\u001b[43mload\u001b[49m\u001b[43m(\u001b[49m\u001b[43mmodel_path\u001b[49m\u001b[43m,\u001b[49m\u001b[43m \u001b[49m\u001b[43mmap_location\u001b[49m\u001b[38;5;241;43m=\u001b[39;49m\u001b[43mdevice\u001b[49m\u001b[43m)\u001b[49m\u001b[43m,\u001b[49m\u001b[43m \u001b[49m\u001b[43mstrict\u001b[49m\u001b[38;5;241;43m=\u001b[39;49m\u001b[38;5;28;43;01mFalse\u001b[39;49;00m\u001b[43m)\u001b[49m\n",
      "File \u001b[0;32m~/opt/anaconda3/envs/MAIN_environment/lib/python3.8/site-packages/torch/nn/modules/module.py:1671\u001b[0m, in \u001b[0;36mModule.load_state_dict\u001b[0;34m(self, state_dict, strict)\u001b[0m\n\u001b[1;32m   1666\u001b[0m         error_msgs\u001b[38;5;241m.\u001b[39minsert(\n\u001b[1;32m   1667\u001b[0m             \u001b[38;5;241m0\u001b[39m, \u001b[38;5;124m'\u001b[39m\u001b[38;5;124mMissing key(s) in state_dict: \u001b[39m\u001b[38;5;132;01m{}\u001b[39;00m\u001b[38;5;124m. \u001b[39m\u001b[38;5;124m'\u001b[39m\u001b[38;5;241m.\u001b[39mformat(\n\u001b[1;32m   1668\u001b[0m                 \u001b[38;5;124m'\u001b[39m\u001b[38;5;124m, \u001b[39m\u001b[38;5;124m'\u001b[39m\u001b[38;5;241m.\u001b[39mjoin(\u001b[38;5;124m'\u001b[39m\u001b[38;5;124m\"\u001b[39m\u001b[38;5;132;01m{}\u001b[39;00m\u001b[38;5;124m\"\u001b[39m\u001b[38;5;124m'\u001b[39m\u001b[38;5;241m.\u001b[39mformat(k) \u001b[38;5;28;01mfor\u001b[39;00m k \u001b[38;5;129;01min\u001b[39;00m missing_keys)))\n\u001b[1;32m   1670\u001b[0m \u001b[38;5;28;01mif\u001b[39;00m \u001b[38;5;28mlen\u001b[39m(error_msgs) \u001b[38;5;241m>\u001b[39m \u001b[38;5;241m0\u001b[39m:\n\u001b[0;32m-> 1671\u001b[0m     \u001b[38;5;28;01mraise\u001b[39;00m \u001b[38;5;167;01mRuntimeError\u001b[39;00m(\u001b[38;5;124m'\u001b[39m\u001b[38;5;124mError(s) in loading state_dict for \u001b[39m\u001b[38;5;132;01m{}\u001b[39;00m\u001b[38;5;124m:\u001b[39m\u001b[38;5;130;01m\\n\u001b[39;00m\u001b[38;5;130;01m\\t\u001b[39;00m\u001b[38;5;132;01m{}\u001b[39;00m\u001b[38;5;124m'\u001b[39m\u001b[38;5;241m.\u001b[39mformat(\n\u001b[1;32m   1672\u001b[0m                        \u001b[38;5;28mself\u001b[39m\u001b[38;5;241m.\u001b[39m\u001b[38;5;18m__class__\u001b[39m\u001b[38;5;241m.\u001b[39m\u001b[38;5;18m__name__\u001b[39m, \u001b[38;5;124m\"\u001b[39m\u001b[38;5;130;01m\\n\u001b[39;00m\u001b[38;5;130;01m\\t\u001b[39;00m\u001b[38;5;124m\"\u001b[39m\u001b[38;5;241m.\u001b[39mjoin(error_msgs)))\n\u001b[1;32m   1673\u001b[0m \u001b[38;5;28;01mreturn\u001b[39;00m _IncompatibleKeys(missing_keys, unexpected_keys)\n",
      "\u001b[0;31mRuntimeError\u001b[0m: Error(s) in loading state_dict for DataParallel:\n\tsize mismatch for module.group._identity: copying a param with shape torch.Size([1]) from checkpoint, the shape in current model is torch.Size([2]).\n\tsize mismatch for module.group._elements: copying a param with shape torch.Size([4, 1]) from checkpoint, the shape in current model is torch.Size([8, 2]).\n\tsize mismatch for module.group._relative_positions: copying a param with shape torch.Size([4, 4]) from checkpoint, the shape in current model is torch.Size([8, 8]).\n\tsize mismatch for module.lifting_self_attention.row_indices: copying a param with shape torch.Size([4, 5, 5]) from checkpoint, the shape in current model is torch.Size([8, 5, 5]).\n\tsize mismatch for module.lifting_self_attention.col_indices: copying a param with shape torch.Size([4, 5, 5]) from checkpoint, the shape in current model is torch.Size([8, 5, 5]).\n\tsize mismatch for module.lifting_self_attention.group._identity: copying a param with shape torch.Size([1]) from checkpoint, the shape in current model is torch.Size([2]).\n\tsize mismatch for module.lifting_self_attention.group._elements: copying a param with shape torch.Size([4, 1]) from checkpoint, the shape in current model is torch.Size([8, 2]).\n\tsize mismatch for module.lifting_self_attention.group._relative_positions: copying a param with shape torch.Size([4, 4]) from checkpoint, the shape in current model is torch.Size([8, 8]).\n\tsize mismatch for module.transformer.0.attention.2.row_indices: copying a param with shape torch.Size([4, 5, 5]) from checkpoint, the shape in current model is torch.Size([8, 5, 5]).\n\tsize mismatch for module.transformer.0.attention.2.col_indices: copying a param with shape torch.Size([4, 5, 5]) from checkpoint, the shape in current model is torch.Size([8, 5, 5]).\n\tsize mismatch for module.transformer.0.attention.2.g_indices: copying a param with shape torch.Size([4, 4, 4]) from checkpoint, the shape in current model is torch.Size([8, 8, 8]).\n\tsize mismatch for module.transformer.0.attention.2.group._identity: copying a param with shape torch.Size([1]) from checkpoint, the shape in current model is torch.Size([2]).\n\tsize mismatch for module.transformer.0.attention.2.group._elements: copying a param with shape torch.Size([4, 1]) from checkpoint, the shape in current model is torch.Size([8, 2]).\n\tsize mismatch for module.transformer.0.attention.2.group._relative_positions: copying a param with shape torch.Size([4, 4]) from checkpoint, the shape in current model is torch.Size([8, 8]).\n\tsize mismatch for module.transformer.0.attention.2.group_embedding.weight: copying a param with shape torch.Size([4, 4]) from checkpoint, the shape in current model is torch.Size([8, 4]).\n\tsize mismatch for module.transformer.1.attention.2.row_indices: copying a param with shape torch.Size([4, 5, 5]) from checkpoint, the shape in current model is torch.Size([8, 5, 5]).\n\tsize mismatch for module.transformer.1.attention.2.col_indices: copying a param with shape torch.Size([4, 5, 5]) from checkpoint, the shape in current model is torch.Size([8, 5, 5]).\n\tsize mismatch for module.transformer.1.attention.2.g_indices: copying a param with shape torch.Size([4, 4, 4]) from checkpoint, the shape in current model is torch.Size([8, 8, 8]).\n\tsize mismatch for module.transformer.1.attention.2.group._identity: copying a param with shape torch.Size([1]) from checkpoint, the shape in current model is torch.Size([2]).\n\tsize mismatch for module.transformer.1.attention.2.group._elements: copying a param with shape torch.Size([4, 1]) from checkpoint, the shape in current model is torch.Size([8, 2]).\n\tsize mismatch for module.transformer.1.attention.2.group._relative_positions: copying a param with shape torch.Size([4, 4]) from checkpoint, the shape in current model is torch.Size([8, 8]).\n\tsize mismatch for module.transformer.1.attention.2.group_embedding.weight: copying a param with shape torch.Size([4, 4]) from checkpoint, the shape in current model is torch.Size([8, 4]).\n\tsize mismatch for module.transformer.3.attention.2.row_indices: copying a param with shape torch.Size([4, 5, 5]) from checkpoint, the shape in current model is torch.Size([8, 5, 5]).\n\tsize mismatch for module.transformer.3.attention.2.col_indices: copying a param with shape torch.Size([4, 5, 5]) from checkpoint, the shape in current model is torch.Size([8, 5, 5]).\n\tsize mismatch for module.transformer.3.attention.2.g_indices: copying a param with shape torch.Size([4, 4, 4]) from checkpoint, the shape in current model is torch.Size([8, 8, 8]).\n\tsize mismatch for module.transformer.3.attention.2.group._identity: copying a param with shape torch.Size([1]) from checkpoint, the shape in current model is torch.Size([2]).\n\tsize mismatch for module.transformer.3.attention.2.group._elements: copying a param with shape torch.Size([4, 1]) from checkpoint, the shape in current model is torch.Size([8, 2]).\n\tsize mismatch for module.transformer.3.attention.2.group._relative_positions: copying a param with shape torch.Size([4, 4]) from checkpoint, the shape in current model is torch.Size([8, 8]).\n\tsize mismatch for module.transformer.3.attention.2.group_embedding.weight: copying a param with shape torch.Size([4, 4]) from checkpoint, the shape in current model is torch.Size([8, 4]).\n\tsize mismatch for module.transformer.4.attention.2.row_indices: copying a param with shape torch.Size([4, 5, 5]) from checkpoint, the shape in current model is torch.Size([8, 5, 5]).\n\tsize mismatch for module.transformer.4.attention.2.col_indices: copying a param with shape torch.Size([4, 5, 5]) from checkpoint, the shape in current model is torch.Size([8, 5, 5]).\n\tsize mismatch for module.transformer.4.attention.2.g_indices: copying a param with shape torch.Size([4, 4, 4]) from checkpoint, the shape in current model is torch.Size([8, 8, 8]).\n\tsize mismatch for module.transformer.4.attention.2.group._identity: copying a param with shape torch.Size([1]) from checkpoint, the shape in current model is torch.Size([2]).\n\tsize mismatch for module.transformer.4.attention.2.group._elements: copying a param with shape torch.Size([4, 1]) from checkpoint, the shape in current model is torch.Size([8, 2]).\n\tsize mismatch for module.transformer.4.attention.2.group._relative_positions: copying a param with shape torch.Size([4, 4]) from checkpoint, the shape in current model is torch.Size([8, 8]).\n\tsize mismatch for module.transformer.4.attention.2.group_embedding.weight: copying a param with shape torch.Size([4, 4]) from checkpoint, the shape in current model is torch.Size([8, 4]).\n\tsize mismatch for module.transformer.5.attention.2.row_indices: copying a param with shape torch.Size([4, 5, 5]) from checkpoint, the shape in current model is torch.Size([8, 5, 5]).\n\tsize mismatch for module.transformer.5.attention.2.col_indices: copying a param with shape torch.Size([4, 5, 5]) from checkpoint, the shape in current model is torch.Size([8, 5, 5]).\n\tsize mismatch for module.transformer.5.attention.2.g_indices: copying a param with shape torch.Size([4, 4, 4]) from checkpoint, the shape in current model is torch.Size([8, 8, 8]).\n\tsize mismatch for module.transformer.5.attention.2.group._identity: copying a param with shape torch.Size([1]) from checkpoint, the shape in current model is torch.Size([2]).\n\tsize mismatch for module.transformer.5.attention.2.group._elements: copying a param with shape torch.Size([4, 1]) from checkpoint, the shape in current model is torch.Size([8, 2]).\n\tsize mismatch for module.transformer.5.attention.2.group._relative_positions: copying a param with shape torch.Size([4, 4]) from checkpoint, the shape in current model is torch.Size([8, 8]).\n\tsize mismatch for module.transformer.5.attention.2.group_embedding.weight: copying a param with shape torch.Size([4, 4]) from checkpoint, the shape in current model is torch.Size([8, 4])."
     ]
    }
   ],
   "source": [
    "# Now import GE-ViT of the models and run it on the image\n",
    "model = models.GroupTransformer(\n",
    "    group=groups.E2(num_elements=8),\n",
    "    in_channels=1,\n",
    "    num_channels=20,\n",
    "    block_sizes=[2, 3],\n",
    "    expansion_per_block=1,\n",
    "    crop_per_layer=[2, 0, 2, 1, 1],\n",
    "    image_size=28,\n",
    "    num_classes=10,\n",
    "    dropout_rate_after_maxpooling=0.0,\n",
    "    maxpool_after_last_block=False,\n",
    "    normalize_between_layers=False,\n",
    "    patch_size=5,\n",
    "    num_heads=9,\n",
    "    norm_type=\"LayerNorm\",\n",
    "    activation_function=\"Swish\",\n",
    "    attention_dropout_rate=0.1,\n",
    "    value_dropout_rate=0.1,\n",
    "    whitening_scale=1.41421356,\n",
    ")\n",
    "print(f\"The working directory is {os.getcwd()}\")\n",
    "model_path = \"Checkpoints_visualisations_rotations/rotMNIST_model_p4sa_type_Local_patch_5_dpatt_0.1_dpval_0.1_activ_Swish_norm_LayerNorm_white_1.41421356_optim_Adam_lr_0.0005_bs_64_ep_500_wd_0.0001_seed_0_sched_constants_schdec_1.0.pt\"\n",
    "device = torch.device('cuda' if torch.cuda.is_available() else 'cpu')\n",
    "model = torch.nn.DataParallel(model)\n",
    "model.load_state_dict(torch.load(model_path, map_location=device), strict=False)"
   ]
  },
  {
   "cell_type": "code",
   "execution_count": null,
   "metadata": {},
   "outputs": [],
   "source": [
    "# Load the normal vision transformer\n",
    "model = VisionTransformer(embed_dim=64,\n",
    "                        hidden_dim=512,\n",
    "                        num_heads=4,\n",
    "                        num_layers=6,\n",
    "                        patch_size=4,\n",
    "                        num_channels=1,\n",
    "                        num_patches=49,\n",
    "                        num_classes=10,\n",
    "                        dropout=0.1).to(device)"
   ]
  },
  {
   "cell_type": "code",
   "execution_count": 7,
   "metadata": {},
   "outputs": [],
   "source": [
    "def rotate_image(image, degree, show=False):\n",
    "    \"\"\" Returns all transformations of the input images \"\"\"\n",
    "    # First change image from tensor to PIL\n",
    "    image = image.squeeze()\n",
    "    image = image.cpu().numpy()\n",
    "    image = Image.fromarray(image)\n",
    "    \n",
    "    transform = TF.rotate(image, degree)\n",
    "\n",
    "    # Now convert back to tensor\n",
    "    transform = TF.to_tensor(transform)\n",
    "    transform = transform.squeeze()\n",
    "    if show:\n",
    "        plt.imshow(transform.cpu().numpy(), cmap=\"gray\")\n",
    "        plt.show()\n",
    "\n",
    "\n",
    "    return transform  # C, H, W"
   ]
  },
  {
   "cell_type": "markdown",
   "metadata": {},
   "source": [
    "## Now create the visualisation of the digit with the slider"
   ]
  },
  {
   "cell_type": "code",
   "execution_count": 8,
   "metadata": {},
   "outputs": [],
   "source": [
    "#%matplotlib widget\n",
    "#!conda install jupyter-matplotlib"
   ]
  },
  {
   "cell_type": "code",
   "execution_count": 9,
   "metadata": {},
   "outputs": [
    {
     "data": {
      "image/png": "[encoded data removed]",
      "text/plain": [
       "<Figure size 640x480 with 2 Axes>"
      ]
     },
     "metadata": {},
     "output_type": "display_data"
    }
   ],
   "source": [
    "from matplotlib.widgets import Button, Slider\n",
    "\n",
    "# The image I want to show rotated is image, now I want to create a slider that rotates the image\n",
    "fig, ax = plt.subplots()\n",
    "plt.subplots_adjust(bottom=0.2)\n",
    "degree = 0\n",
    "rotated_image = rotate_image(image, degree)\n",
    "image_plot = ax.imshow(rotated_image.cpu().numpy(), cmap=\"gray\")\n",
    "ax.set_title(\"Degree: {}\".format(degree))\n",
    "\n",
    "# Define the slider update function\n",
    "def update_rotation(val):\n",
    "    degree = val\n",
    "    rotated_image = rotate_image(image, degree)\n",
    "    image_plot.set_data(rotated_image.cpu().numpy())\n",
    "    ax.set_title(\"Degree: {}\".format(degree))\n",
    "    fig.canvas.draw_idle()\n",
    "\n",
    "# Create the slider\n",
    "slider_ax = plt.axes([0.2, 0.1, 0.6, 0.03])\n",
    "slider = Slider(slider_ax, 'Rotation', -180, 180, valinit=degree)\n",
    "slider.on_changed(update_rotation)\n",
    "\n",
    "plt.show()"
   ]
  },
  {
   "cell_type": "code",
   "execution_count": null,
   "metadata": {},
   "outputs": [],
   "source": []
  }
 ],
 "metadata": {
  "kernelspec": {
   "display_name": "Python 3 (ipykernel)",
   "language": "python",
   "name": "python3"
  },
  "language_info": {
   "codemirror_mode": {
    "name": "ipython",
    "version": 3
   },
   "file_extension": ".py",
   "mimetype": "text/x-python",
   "name": "python",
   "nbconvert_exporter": "python",
   "pygments_lexer": "ipython3",
   "version": "3.8.8"
  }
 },
 "nbformat": 4,
 "nbformat_minor": 2
}
