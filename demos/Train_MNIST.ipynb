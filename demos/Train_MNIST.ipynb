{
  "cells": [
    {
      "cell_type": "code",
      "execution_count": null,
      "metadata": {
        "colab": {
          "base_uri": "https://localhost:8080/",
          "height": 529
        },
        "id": "Su51Tu9OnCTI",
        "outputId": "152bcea2-f1f2-4c37-a3ef-fd6c8ea96efa"
      },
      "outputs": [],
      "source": [
        "import sys\n",
        "sys.path.append('../src')\n",
        "\n",
        "import torch\n",
        "import torchvision\n",
        "from datasets import MNIST_rot\n",
        "import matplotlib.pyplot as plt\n",
        "import numpy as np\n",
        "import models\n",
        "import torch\n",
        "import g_selfatt.groups as groups\n",
        "import models\n",
        "from torch.cuda.amp import GradScaler, autocast\n",
        "\n",
        "import g_selfatt\n",
        "from g_selfatt.nn import (\n",
        "    Conv3d1x1,\n",
        "    GroupLocalSelfAttention,\n",
        "    GroupSelfAttention,\n",
        "    LayerNorm,\n",
        "    LiftLocalSelfAttention,\n",
        "    LiftSelfAttention,\n",
        "    TransformerBlock,\n",
        "    activations,\n",
        ")\n",
        "from g_selfatt.utils import num_params\n"
      ]
    },
    {
      "cell_type": "code",
      "execution_count": null,
      "metadata": {
        "id": "ocl6C1lPnV0f"
      },
      "outputs": [],
      "source": [
        "data_mean = (0.1307,)\n",
        "data_stddev = (0.3081,)\n",
        "transform_train = torchvision.transforms.Compose(\n",
        "    [\n",
        "        torchvision.transforms.ToTensor(),\n",
        "        torchvision.transforms.Normalize(data_mean, data_stddev),\n",
        "    ]\n",
        ")\n",
        "transform_test = torchvision.transforms.Compose(\n",
        "    [\n",
        "        torchvision.transforms.ToTensor(),\n",
        "        torchvision.transforms.Normalize(data_mean, data_stddev),\n",
        "    ]\n",
        ")"
      ]
    },
    {
      "cell_type": "markdown",
      "metadata": {
        "id": "fQxnNqsTAh_2"
      },
      "source": [
        "## MNIST training set"
      ]
    },
    {
      "cell_type": "code",
      "execution_count": null,
      "metadata": {
        "id": "2QuHg4JmfKef"
      },
      "outputs": [],
      "source": [
        "# Specify the fraction of the dataset you want to download\n",
        "data_fraction = 0.1  # For example, to download 50% of the dataset\n",
        "\n",
        "# Create the training set with a fraction of the data\n",
        "mnist_full = torchvision.datasets.MNIST(root=\"./data\", train=True, download=True, transform=transform_train)\n",
        "\n",
        "num_samples = len(mnist_full)\n",
        "indices = np.random.choice(num_samples, int(data_fraction * num_samples), replace=False)\n",
        "\n",
        "training_set = torch.utils.data.Subset(mnist_full, indices)"
      ]
    },
    {
      "cell_type": "code",
      "execution_count": null,
      "metadata": {
        "id": "5sFvl7w2qWBG"
      },
      "outputs": [],
      "source": [
        "# training_set = MNIST_rot(root=\"./data\", stage=\"train\", download=True, transform=transform_train, data_fraction=1)\n",
        "evaluation_set = MNIST_rot(root=\"./data\", stage=\"validation\", download=True, transform=transform_train, data_fraction=1)\n",
        "test_set = MNIST_rot(root=\"./data\", stage=\"test\", download=True, transform=transform_test, data_fraction=1)\n",
        "\n",
        "training_loader = torch.utils.data.DataLoader(\n",
        "    training_set,\n",
        "    batch_size=32,\n",
        "    shuffle=True,\n",
        "    num_workers=4,\n",
        ")\n",
        "evaluation_loader = torch.utils.data.DataLoader(\n",
        "    evaluation_set,\n",
        "    batch_size=32,\n",
        "    shuffle=False,\n",
        "    num_workers=4,\n",
        ")\n",
        "\n",
        "test_loader = torch.utils.data.DataLoader(\n",
        "    test_set,\n",
        "    batch_size=32,\n",
        "    shuffle=False,\n",
        "    num_workers=4,\n",
        ")"
      ]
    },
    {
      "cell_type": "code",
      "execution_count": null,
      "metadata": {
        "id": "hQse7spCqZHx"
      },
      "outputs": [],
      "source": [
        "# simulate some little training procedure to investigate speed of different parts of the codebase\n",
        "device = torch.device(\"cuda:0\" if torch.cuda.is_available() else \"cpu\")\n",
        "\n",
        "model = models.GroupTransformer(\n",
        "    group=groups.SE2(num_elements=4),\n",
        "    in_channels=1,\n",
        "    num_channels=20,\n",
        "    block_sizes=[2, 3],\n",
        "    expansion_per_block=1,\n",
        "    crop_per_layer=[2, 0, 2, 1, 1],\n",
        "    image_size=28,\n",
        "    num_classes=10,\n",
        "    dropout_rate_after_maxpooling=0.0,\n",
        "    maxpool_after_last_block=False,\n",
        "    normalize_between_layers=False,\n",
        "    patch_size=5,\n",
        "    num_heads=9,\n",
        "    norm_type=\"LayerNorm\",\n",
        "    activation_function=\"Swish\",\n",
        "    attention_dropout_rate=0.1,\n",
        "    value_dropout_rate=0.1,\n",
        "    whitening_scale=1.41421356,\n",
        ")\n",
        "model = torch.nn.DataParallel(model)\n",
        "model = model.to(device)\n",
        "num_params(model)"
      ]
    },
    {
      "cell_type": "code",
      "execution_count": null,
      "metadata": {
        "id": "iwYUu_51xevJ"
      },
      "outputs": [],
      "source": [
        "criterion = torch.nn.CrossEntropyLoss()\n",
        "optimizer = torch.optim.Adam(model.parameters(), lr=0.005)\n",
        "scaler = GradScaler()"
      ]
    },
    {
      "cell_type": "code",
      "execution_count": null,
      "metadata": {
        "id": "SY6ApuvnqnZG"
      },
      "outputs": [],
      "source": [
        "# Lists to store loss and accuracy values\n",
        "train_loss_values = []\n",
        "evaluation_accuracy_values = []\n",
        "\n",
        "\n",
        "model.train()\n",
        "for epoch in range(10):\n",
        "    epoch_train_loss = 0.0\n",
        "    for inputs, labels in training_loader:\n",
        "        inputs = inputs.to(device)\n",
        "        labels = labels.to(device)\n",
        "        optimizer.zero_grad()\n",
        "        with torch.set_grad_enabled(True):\n",
        "            with autocast():\n",
        "                out = model(inputs)\n",
        "                loss = criterion(out, labels)\n",
        "            scaler.scale(loss).backward()\n",
        "            scaler.step(optimizer)\n",
        "            scaler.update()\n",
        "            epoch_train_loss += loss.item() * inputs.size(0)  # Accumulate loss\n",
        "    epoch_train_loss /= len(training_loader.dataset)  # Average loss for the epoch\n",
        "    print(\"average loss\", epoch_train_loss)\n",
        "    train_loss_values.append(epoch_train_loss)  # Save epoch loss\n",
        "\n",
        "    # Evaluation on first test dataset\n",
        "    correct = total = 0\n",
        "    model.eval()\n",
        "    for inputs, labels in evaluation_loader:\n",
        "        inputs = inputs.to(device)\n",
        "        labels = labels.to(device)\n",
        "        with torch.set_grad_enabled(False):\n",
        "            with autocast():\n",
        "                out = model(inputs)\n",
        "        _, preds = torch.max(out, 1)\n",
        "        correct += (preds == labels).sum().item()\n",
        "        total += labels.size(0)\n",
        "    accuracy = correct / total\n",
        "\n",
        "    print(\"evaulation accucary: \", accuracy)\n",
        "    print(\"------------------------------------------------\")\n",
        "    evaluation_accuracy_values.append(accuracy)  # Save accuracy for first test dataset\n",
        "\n",
        "\n",
        "# After training loop, you can plot the saved values using matplotlib or any other plotting library\n"
      ]
    },
    {
      "cell_type": "code",
      "execution_count": null,
      "metadata": {
        "id": "f4UQbSX3qpnH"
      },
      "outputs": [],
      "source": [
        "# Evaluation on second test dataset\n",
        "correct = total = 0\n",
        "for inputs, labels in test_loader:\n",
        "    inputs = inputs.to(device)\n",
        "    labels = labels.to(device)\n",
        "    with torch.set_grad_enabled(False):\n",
        "        with autocast():\n",
        "            out = model(inputs)\n",
        "    _, preds = torch.max(out, 1)\n",
        "    correct += (preds == labels).sum().item()\n",
        "    total += labels.size(0)\n",
        "accuracy2 = correct / total\n",
        "print(\"final test: \", accuracy2)\n",
        "\n"
      ]
    },
    {
      "cell_type": "code",
      "execution_count": null,
      "metadata": {
        "id": "za2Vjmbqs79F"
      },
      "outputs": [],
      "source": []
    },
    {
      "cell_type": "code",
      "execution_count": null,
      "metadata": {
        "id": "GD2hCz6ys_yw"
      },
      "outputs": [],
      "source": []
    },
    {
      "cell_type": "code",
      "execution_count": null,
      "metadata": {
        "id": "jAsTvgXNtCYb"
      },
      "outputs": [],
      "source": []
    }
  ],
  "metadata": {
    "accelerator": "GPU",
    "colab": {
      "gpuType": "T4",
      "provenance": []
    },
    "kernelspec": {
      "display_name": "Python 3",
      "name": "python3"
    },
    "language_info": {
      "codemirror_mode": {
        "name": "ipython",
        "version": 3
      },
      "file_extension": ".py",
      "mimetype": "text/x-python",
      "name": "python",
      "nbconvert_exporter": "python",
      "pygments_lexer": "ipython3",
      "version": "3.11.5"
    }
  },
  "nbformat": 4,
  "nbformat_minor": 0
}
