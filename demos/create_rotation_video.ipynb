{
 "cells": [
  {
   "cell_type": "code",
   "execution_count": 2,
   "metadata": {},
   "outputs": [
    {
     "name": "stderr",
     "output_type": "stream",
     "text": [
      "ffmpeg version 4.2.2 Copyright (c) 2000-2019 the FFmpeg developers\n",
      "  built with clang version 4.0.1 (tags/RELEASE_401/final)\n",
      "  configuration: --prefix=/Users/jasper/opt/anaconda3/envs/MAIN_environment --cc=x86_64-apple-darwin13.4.0-clang --disable-doc --enable-avresample --enable-gmp --enable-hardcoded-tables --enable-libfreetype --enable-libvpx --enable-pthreads --enable-libopus --enable-postproc --enable-pic --enable-pthreads --enable-shared --enable-static --enable-version3 --enable-zlib --enable-libmp3lame --disable-nonfree --enable-gpl --enable-gnutls --disable-openssl --enable-libopenh264 --enable-libx264\n",
      "  libavutil      56. 31.100 / 56. 31.100\n",
      "  libavcodec     58. 54.100 / 58. 54.100\n",
      "  libavformat    58. 29.100 / 58. 29.100\n",
      "  libavdevice    58.  8.100 / 58.  8.100\n",
      "  libavfilter     7. 57.100 /  7. 57.100\n",
      "  libavresample   4.  0.  0 /  4.  0.  0\n",
      "  libswscale      5.  5.100 /  5.  5.100\n",
      "  libswresample   3.  5.100 /  3.  5.100\n",
      "  libpostproc    55.  5.100 / 55.  5.100\n",
      "Input #0, image2, from '/Users/jasper/Downloads/Video_rotations/rotation_%d.png':\n",
      "  Duration: 00:00:06.00, start: 0.000000, bitrate: N/A\n",
      "    Stream #0:0: Video: png, rgba(pc), 1000x700 [SAR 3937:3937 DAR 10:7], 60 fps, 60 tbr, 60 tbn, 60 tbc\n",
      "Stream mapping:\n",
      "  Stream #0:0 -> #0:0 (png (native) -> h264 (libx264))\n",
      "Press [q] to stop, [?] for help\n",
      "[libx264 @ 0x7fd11c01bc00] using SAR=1/1\n",
      "[libx264 @ 0x7fd11c01bc00] using cpu capabilities: MMX2 SSE2Fast SSSE3 SSE4.2\n",
      "[libx264 @ 0x7fd11c01bc00] profile High, level 3.2, 4:2:0, 8-bit\n",
      "[libx264 @ 0x7fd11c01bc00] 264 - core 157 - H.264/MPEG-4 AVC codec - Copyleft 2003-2018 - http://www.videolan.org/x264.html - options: cabac=1 ref=3 deblock=1:0:0 analyse=0x3:0x113 me=hex subme=7 psy=1 psy_rd=1.00:0.00 mixed_ref=1 me_range=16 chroma_me=1 trellis=1 8x8dct=1 cqm=0 deadzone=21,11 fast_pskip=1 chroma_qp_offset=-2 threads=15 lookahead_threads=2 sliced_threads=0 nr=0 decimate=1 interlaced=0 bluray_compat=0 constrained_intra=0 bframes=3 b_pyramid=2 b_adapt=1 b_bias=0 direct=1 weightb=1 open_gop=0 weightp=2 keyint=250 keyint_min=25 scenecut=40 intra_refresh=0 rc_lookahead=40 rc=crf mbtree=1 crf=23.0 qcomp=0.60 qpmin=0 qpmax=69 qpstep=4 ip_ratio=1.40 aq=1:1.00\n",
      "Output #0, mp4, to '/Users/jasper/Downloads/Video_rotations/rotation.mp4':\n",
      "  Metadata:\n",
      "    encoder         : Lavf58.29.100\n",
      "    Stream #0:0: Video: h264 (libx264) (avc1 / 0x31637661), yuv420p, 1000x700 [SAR 1:1 DAR 10:7], q=-1--1, 60 fps, 15360 tbn, 60 tbc\n",
      "    Metadata:\n",
      "      encoder         : Lavc58.54.100 libx264\n",
      "    Side data:\n",
      "      cpb: bitrate max/min/avg: 0/0/0 buffer size: 0 vbv_delay: -1\n",
      "frame=  360 fps=300 q=-1.0 Lsize=     290kB time=00:00:05.95 bitrate= 398.8kbits/s speed=4.96x    \n",
      "video:285kB audio:0kB subtitle:0kB other streams:0kB global headers:0kB muxing overhead: 1.773656%\n",
      "[libx264 @ 0x7fd11c01bc00] frame I:2     Avg QP:21.19  size: 16614\n",
      "[libx264 @ 0x7fd11c01bc00] frame P:91    Avg QP:25.56  size:  1844\n",
      "[libx264 @ 0x7fd11c01bc00] frame B:267   Avg QP:29.25  size:   336\n",
      "[libx264 @ 0x7fd11c01bc00] consecutive B-frames:  1.1%  0.0%  0.0% 98.9%\n",
      "[libx264 @ 0x7fd11c01bc00] mb I  I16..4: 25.8% 56.4% 17.8%\n",
      "[libx264 @ 0x7fd11c01bc00] mb P  I16..4:  1.1%  1.4%  4.0%  P16..4:  3.3%  0.7%  0.2%  0.0%  0.0%    skip:89.3%\n",
      "[libx264 @ 0x7fd11c01bc00] mb B  I16..4:  0.2%  0.3%  0.1%  B16..8:  3.5%  0.2%  0.0%  direct: 0.3%  skip:95.5%  L0:51.4% L1:43.6% BI: 5.0%\n",
      "[libx264 @ 0x7fd11c01bc00] 8x8 transform intra:33.8% inter:68.6%\n",
      "[libx264 @ 0x7fd11c01bc00] coded y,uvDC,uvAC intra: 24.4% 1.2% 1.1% inter: 0.9% 0.0% 0.0%\n",
      "[libx264 @ 0x7fd11c01bc00] i16 v,h,dc,p: 57% 37%  5%  1%\n",
      "[libx264 @ 0x7fd11c01bc00] i8 v,h,dc,ddl,ddr,vr,hd,vl,hu: 35%  5% 58%  1%  0%  0%  0%  0%  1%\n",
      "[libx264 @ 0x7fd11c01bc00] i4 v,h,dc,ddl,ddr,vr,hd,vl,hu: 55% 35%  8%  0%  1%  0%  0%  0%  0%\n",
      "[libx264 @ 0x7fd11c01bc00] i8c dc,h,v,p: 97%  0%  2%  0%\n",
      "[libx264 @ 0x7fd11c01bc00] Weighted P-Frames: Y:0.0% UV:0.0%\n",
      "[libx264 @ 0x7fd11c01bc00] ref P L0: 37.5% 11.9% 27.6% 23.0%\n",
      "[libx264 @ 0x7fd11c01bc00] ref B L0: 70.2% 23.2%  6.6%\n",
      "[libx264 @ 0x7fd11c01bc00] ref B L1: 94.1%  5.9%\n",
      "[libx264 @ 0x7fd11c01bc00] kb/s:387.67\n"
     ]
    },
    {
     "data": {
      "text/plain": [
       "CompletedProcess(args=['ffmpeg', '-framerate', '60', '-i', '/Users/jasper/Downloads/Video_rotations/rotation_%d.png', '-c:v', 'libx264', '-pix_fmt', 'yuv420p', '/Users/jasper/Downloads/Video_rotations/rotation.mp4'], returncode=0)"
      ]
     },
     "execution_count": 2,
     "metadata": {},
     "output_type": "execute_result"
    }
   ],
   "source": [
    "import subprocess\n",
    "import os\n",
    "image_dir = \"/Users/jasper/Downloads/Video_rotations\"\n",
    "\n",
    "output_file = os.path.join(image_dir, \"rotation.mp4\")\n",
    "command = [\n",
    "    \"ffmpeg\",\n",
    "    \"-framerate\", str(60),\n",
    "    \"-i\", os.path.join(image_dir, \"rotation_%d.png\"),\n",
    "    \"-c:v\", \"libx264\",\n",
    "    '-pix_fmt', 'yuv420p',\n",
    "    output_file\n",
    "]\n",
    "\n",
    "subprocess.run(command)"
   ]
  },
  {
   "cell_type": "code",
   "execution_count": null,
   "metadata": {},
   "outputs": [],
   "source": []
  }
 ],
 "metadata": {
  "kernelspec": {
   "display_name": "MAIN_environment",
   "language": "python",
   "name": "python3"
  },
  "language_info": {
   "codemirror_mode": {
    "name": "ipython",
    "version": 3
   },
   "file_extension": ".py",
   "mimetype": "text/x-python",
   "name": "python",
   "nbconvert_exporter": "python",
   "pygments_lexer": "ipython3",
   "version": "3.8.18"
  }
 },
 "nbformat": 4,
 "nbformat_minor": 2
}
