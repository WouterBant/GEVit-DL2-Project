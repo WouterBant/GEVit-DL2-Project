{
 "cells": [
  {
   "cell_type": "code",
   "execution_count": 17,
   "metadata": {},
   "outputs": [
    {
     "name": "stderr",
     "output_type": "stream",
     "text": [
      "ffmpeg version 4.2.2 Copyright (c) 2000-2019 the FFmpeg developers\n",
      "  built with clang version 4.0.1 (tags/RELEASE_401/final)\n",
      "  configuration: --prefix=/Users/jasper/opt/anaconda3/envs/MAIN_environment --cc=x86_64-apple-darwin13.4.0-clang --disable-doc --enable-avresample --enable-gmp --enable-hardcoded-tables --enable-libfreetype --enable-libvpx --enable-pthreads --enable-libopus --enable-postproc --enable-pic --enable-pthreads --enable-shared --enable-static --enable-version3 --enable-zlib --enable-libmp3lame --disable-nonfree --enable-gpl --enable-gnutls --disable-openssl --enable-libopenh264 --enable-libx264\n",
      "  libavutil      56. 31.100 / 56. 31.100\n",
      "  libavcodec     58. 54.100 / 58. 54.100\n",
      "  libavformat    58. 29.100 / 58. 29.100\n",
      "  libavdevice    58.  8.100 / 58.  8.100\n",
      "  libavfilter     7. 57.100 /  7. 57.100\n",
      "  libavresample   4.  0.  0 /  4.  0.  0\n",
      "  libswscale      5.  5.100 /  5.  5.100\n",
      "  libswresample   3.  5.100 /  3.  5.100\n",
      "  libpostproc    55.  5.100 / 55.  5.100\n",
      "Input #0, image2, from '/Users/jasper/Downloads/Video_rotations/rotation_%d.png':\n",
      "  Duration: 00:00:06.00, start: 0.000000, bitrate: N/A\n",
      "    Stream #0:0: Video: png, rgba(pc), 1000x700 [SAR 3937:3937 DAR 10:7], 60 fps, 60 tbr, 60 tbn, 60 tbc\n",
      "Stream mapping:\n",
      "  Stream #0:0 -> #0:0 (png (native) -> h264 (libx264))\n",
      "Press [q] to stop, [?] for help\n",
      "[libx264 @ 0x7fc8b580fc00] using SAR=1/1\n",
      "[libx264 @ 0x7fc8b580fc00] using cpu capabilities: MMX2 SSE2Fast SSSE3 SSE4.2\n",
      "[libx264 @ 0x7fc8b580fc00] profile High, level 3.2, 4:2:0, 8-bit\n",
      "[libx264 @ 0x7fc8b580fc00] 264 - core 157 - H.264/MPEG-4 AVC codec - Copyleft 2003-2018 - http://www.videolan.org/x264.html - options: cabac=1 ref=3 deblock=1:0:0 analyse=0x3:0x113 me=hex subme=7 psy=1 psy_rd=1.00:0.00 mixed_ref=1 me_range=16 chroma_me=1 trellis=1 8x8dct=1 cqm=0 deadzone=21,11 fast_pskip=1 chroma_qp_offset=-2 threads=15 lookahead_threads=2 sliced_threads=0 nr=0 decimate=1 interlaced=0 bluray_compat=0 constrained_intra=0 bframes=3 b_pyramid=2 b_adapt=1 b_bias=0 direct=1 weightb=1 open_gop=0 weightp=2 keyint=250 keyint_min=25 scenecut=40 intra_refresh=0 rc_lookahead=40 rc=crf mbtree=1 crf=23.0 qcomp=0.60 qpmin=0 qpmax=69 qpstep=4 ip_ratio=1.40 aq=1:1.00\n",
      "Output #0, mp4, to '/Users/jasper/Downloads/Video_rotations/rotation.mp4':\n",
      "  Metadata:\n",
      "    encoder         : Lavf58.29.100\n",
      "    Stream #0:0: Video: h264 (libx264) (avc1 / 0x31637661), yuv420p, 1000x700 [SAR 1:1 DAR 10:7], q=-1--1, 60 fps, 15360 tbn, 60 tbc\n",
      "    Metadata:\n",
      "      encoder         : Lavc58.54.100 libx264\n",
      "    Side data:\n",
      "      cpb: bitrate max/min/avg: 0/0/0 buffer size: 0 vbv_delay: -1\n",
      "frame=  360 fps=316 q=-1.0 Lsize=     269kB time=00:00:05.95 bitrate= 370.8kbits/s speed=5.22x    \n",
      "video:264kB audio:0kB subtitle:0kB other streams:0kB global headers:0kB muxing overhead: 1.904012%\n",
      "[libx264 @ 0x7fc8b580fc00] frame I:2     Avg QP:20.86  size: 16916\n",
      "[libx264 @ 0x7fc8b580fc00] frame P:96    Avg QP:24.47  size:  1267\n",
      "[libx264 @ 0x7fc8b580fc00] frame B:262   Avg QP:30.22  size:   437\n",
      "[libx264 @ 0x7fc8b580fc00] consecutive B-frames:  1.4%  3.9%  2.5% 92.2%\n",
      "[libx264 @ 0x7fc8b580fc00] mb I  I16..4: 26.2% 55.6% 18.2%\n",
      "[libx264 @ 0x7fc8b580fc00] mb P  I16..4:  1.0%  1.2%  1.5%  P16..4:  3.8%  1.1%  0.2%  0.0%  0.0%    skip:91.1%\n",
      "[libx264 @ 0x7fc8b580fc00] mb B  I16..4:  0.2%  0.2%  0.2%  B16..8:  7.0%  0.6%  0.0%  direct: 0.0%  skip:91.8%  L0:52.3% L1:47.1% BI: 0.6%\n",
      "[libx264 @ 0x7fc8b580fc00] 8x8 transform intra:39.0% inter:39.4%\n",
      "[libx264 @ 0x7fc8b580fc00] coded y,uvDC,uvAC intra: 15.0% 2.0% 1.8% inter: 0.4% 0.0% 0.0%\n",
      "[libx264 @ 0x7fc8b580fc00] i16 v,h,dc,p: 65% 32%  3%  0%\n",
      "[libx264 @ 0x7fc8b580fc00] i8 v,h,dc,ddl,ddr,vr,hd,vl,hu: 33%  4% 62%  1%  0%  0%  0%  0%  0%\n",
      "[libx264 @ 0x7fc8b580fc00] i4 v,h,dc,ddl,ddr,vr,hd,vl,hu: 40% 41% 16%  0%  1%  0%  1%  0%  1%\n",
      "[libx264 @ 0x7fc8b580fc00] i8c dc,h,v,p: 95%  0%  4%  0%\n",
      "[libx264 @ 0x7fc8b580fc00] Weighted P-Frames: Y:0.0% UV:0.0%\n",
      "[libx264 @ 0x7fc8b580fc00] ref P L0: 48.6%  5.0% 25.4% 21.0%\n",
      "[libx264 @ 0x7fc8b580fc00] ref B L0: 78.0% 17.5%  4.5%\n",
      "[libx264 @ 0x7fc8b580fc00] ref B L1: 93.0%  7.0%\n",
      "[libx264 @ 0x7fc8b580fc00] kb/s:359.95\n"
     ]
    },
    {
     "data": {
      "text/plain": [
       "CompletedProcess(args=['ffmpeg', '-framerate', '60', '-i', '/Users/jasper/Downloads/Video_rotations/rotation_%d.png', '-c:v', 'libx264', '-pix_fmt', 'yuv420p', '/Users/jasper/Downloads/Video_rotations/rotation.mp4'], returncode=0)"
      ]
     },
     "execution_count": 17,
     "metadata": {},
     "output_type": "execute_result"
    }
   ],
   "source": [
    "import subprocess\n",
    "import os\n",
    "image_dir = \"/Users/jasper/Downloads/Video_rotations\"\n",
    "\n",
    "output_file = os.path.join(image_dir, \"rotation.mp4\")\n",
    "command = [\n",
    "    \"ffmpeg\",\n",
    "    \"-framerate\", str(60),\n",
    "    \"-i\", os.path.join(image_dir, \"rotation_%d.png\"),\n",
    "    \"-c:v\", \"libx264\",\n",
    "    '-pix_fmt', 'yuv420p',\n",
    "    output_file\n",
    "]\n",
    "\n",
    "subprocess.run(command)"
   ]
  },
  {
   "cell_type": "code",
   "execution_count": null,
   "metadata": {},
   "outputs": [],
   "source": []
  }
 ],
 "metadata": {
  "kernelspec": {
   "display_name": "MAIN_environment",
   "language": "python",
   "name": "python3"
  },
  "language_info": {
   "codemirror_mode": {
    "name": "ipython",
    "version": 3
   },
   "file_extension": ".py",
   "mimetype": "text/x-python",
   "name": "python",
   "nbconvert_exporter": "python",
   "pygments_lexer": "ipython3",
   "version": "3.8.18"
  }
 },
 "nbformat": 4,
 "nbformat_minor": 2
}
