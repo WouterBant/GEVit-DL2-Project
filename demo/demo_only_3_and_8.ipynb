{
 "cells": [
  {
   "cell_type": "code",
   "execution_count": 1,
   "metadata": {},
   "outputs": [],
   "source": [
    "%load_ext autoreload\n",
    "%autoreload 2"
   ]
  },
  {
   "cell_type": "code",
   "execution_count": 2,
   "metadata": {},
   "outputs": [],
   "source": [
    "import os,sys\n",
    "g_selfatt_source =  os.path.join(os.getcwd(), '..')\n",
    "if g_selfatt_source not in sys.path:\n",
    "    sys.path.append(g_selfatt_source)"
   ]
  },
  {
   "cell_type": "code",
   "execution_count": 18,
   "metadata": {},
   "outputs": [],
   "source": [
    "import g_selfatt.groups as groups\n",
    "import torch\n",
    "import models\n",
    "from g_selfatt.utils import num_params\n",
    "import torch\n",
    "import torchvision\n",
    "from datasets import MNIST_rot\n",
    "import matplotlib.pyplot as plt\n",
    "import numpy as np\n",
    "import models\n",
    "import torch\n",
    "import g_selfatt.groups as groups\n",
    "import models\n",
    "from torch.cuda.amp import GradScaler, autocast"
   ]
  },
  {
   "cell_type": "code",
   "execution_count": 13,
   "metadata": {},
   "outputs": [
    {
     "data": {
      "text/plain": [
       "_IncompatibleKeys(missing_keys=['group._identity', 'group._elements', 'group._relative_positions', 'lifting_self_attention.row_indices', 'lifting_self_attention.col_indices', 'lifting_self_attention.group._identity', 'lifting_self_attention.group._elements', 'lifting_self_attention.group._relative_positions', 'lifting_self_attention.row_embedding.0.weight', 'lifting_self_attention.row_embedding.0.bias', 'lifting_self_attention.row_embedding.1.layer_norm.weight', 'lifting_self_attention.row_embedding.1.layer_norm.bias', 'lifting_self_attention.row_embedding.3.weight', 'lifting_self_attention.row_embedding.3.bias', 'lifting_self_attention.col_embedding.0.weight', 'lifting_self_attention.col_embedding.0.bias', 'lifting_self_attention.col_embedding.1.layer_norm.weight', 'lifting_self_attention.col_embedding.1.layer_norm.bias', 'lifting_self_attention.col_embedding.3.weight', 'lifting_self_attention.col_embedding.3.bias', 'lifting_self_attention.query.weight', 'lifting_self_attention.query.bias', 'lifting_self_attention.key.weight', 'lifting_self_attention.key.bias', 'lifting_self_attention.value.weight', 'lifting_self_attention.value.bias', 'lifting_self_attention.wout.weight', 'lifting_self_attention.wout.bias', 'lifting_normalization.layer_norm.weight', 'lifting_normalization.layer_norm.bias', 'transformer.0.attention.0.layer_norm.weight', 'transformer.0.attention.0.layer_norm.bias', 'transformer.0.attention.2.row_indices', 'transformer.0.attention.2.col_indices', 'transformer.0.attention.2.g_indices', 'transformer.0.attention.2.group._identity', 'transformer.0.attention.2.group._elements', 'transformer.0.attention.2.group._relative_positions', 'transformer.0.attention.2.row_embedding.0.weight', 'transformer.0.attention.2.row_embedding.0.bias', 'transformer.0.attention.2.row_embedding.1.layer_norm.weight', 'transformer.0.attention.2.row_embedding.1.layer_norm.bias', 'transformer.0.attention.2.row_embedding.3.weight', 'transformer.0.attention.2.row_embedding.3.bias', 'transformer.0.attention.2.col_embedding.0.weight', 'transformer.0.attention.2.col_embedding.0.bias', 'transformer.0.attention.2.col_embedding.1.layer_norm.weight', 'transformer.0.attention.2.col_embedding.1.layer_norm.bias', 'transformer.0.attention.2.col_embedding.3.weight', 'transformer.0.attention.2.col_embedding.3.bias', 'transformer.0.attention.2.group_embedding.weight', 'transformer.0.attention.2.query.weight', 'transformer.0.attention.2.query.bias', 'transformer.0.attention.2.key.weight', 'transformer.0.attention.2.key.bias', 'transformer.0.attention.2.value.weight', 'transformer.0.attention.2.value.bias', 'transformer.0.attention.2.wout.weight', 'transformer.0.attention.2.wout.bias', 'transformer.0.attention.3.layer_norm.weight', 'transformer.0.attention.3.layer_norm.bias', 'transformer.0.mlp.0.weight', 'transformer.0.mlp.0.bias', 'transformer.0.mlp.1.layer_norm.weight', 'transformer.0.mlp.1.layer_norm.bias', 'transformer.0.mlp.3.weight', 'transformer.0.mlp.3.bias', 'transformer.0.mlp.4.layer_norm.weight', 'transformer.0.mlp.4.layer_norm.bias', 'transformer.1.attention.0.layer_norm.weight', 'transformer.1.attention.0.layer_norm.bias', 'transformer.1.attention.2.row_indices', 'transformer.1.attention.2.col_indices', 'transformer.1.attention.2.g_indices', 'transformer.1.attention.2.group._identity', 'transformer.1.attention.2.group._elements', 'transformer.1.attention.2.group._relative_positions', 'transformer.1.attention.2.row_embedding.0.weight', 'transformer.1.attention.2.row_embedding.0.bias', 'transformer.1.attention.2.row_embedding.1.layer_norm.weight', 'transformer.1.attention.2.row_embedding.1.layer_norm.bias', 'transformer.1.attention.2.row_embedding.3.weight', 'transformer.1.attention.2.row_embedding.3.bias', 'transformer.1.attention.2.col_embedding.0.weight', 'transformer.1.attention.2.col_embedding.0.bias', 'transformer.1.attention.2.col_embedding.1.layer_norm.weight', 'transformer.1.attention.2.col_embedding.1.layer_norm.bias', 'transformer.1.attention.2.col_embedding.3.weight', 'transformer.1.attention.2.col_embedding.3.bias', 'transformer.1.attention.2.group_embedding.weight', 'transformer.1.attention.2.query.weight', 'transformer.1.attention.2.query.bias', 'transformer.1.attention.2.key.weight', 'transformer.1.attention.2.key.bias', 'transformer.1.attention.2.value.weight', 'transformer.1.attention.2.value.bias', 'transformer.1.attention.2.wout.weight', 'transformer.1.attention.2.wout.bias', 'transformer.1.attention.3.layer_norm.weight', 'transformer.1.attention.3.layer_norm.bias', 'transformer.1.mlp.0.weight', 'transformer.1.mlp.0.bias', 'transformer.1.mlp.1.layer_norm.weight', 'transformer.1.mlp.1.layer_norm.bias', 'transformer.1.mlp.3.weight', 'transformer.1.mlp.3.bias', 'transformer.1.mlp.4.layer_norm.weight', 'transformer.1.mlp.4.layer_norm.bias', 'transformer.3.attention.0.layer_norm.weight', 'transformer.3.attention.0.layer_norm.bias', 'transformer.3.attention.2.row_indices', 'transformer.3.attention.2.col_indices', 'transformer.3.attention.2.g_indices', 'transformer.3.attention.2.group._identity', 'transformer.3.attention.2.group._elements', 'transformer.3.attention.2.group._relative_positions', 'transformer.3.attention.2.row_embedding.0.weight', 'transformer.3.attention.2.row_embedding.0.bias', 'transformer.3.attention.2.row_embedding.1.layer_norm.weight', 'transformer.3.attention.2.row_embedding.1.layer_norm.bias', 'transformer.3.attention.2.row_embedding.3.weight', 'transformer.3.attention.2.row_embedding.3.bias', 'transformer.3.attention.2.col_embedding.0.weight', 'transformer.3.attention.2.col_embedding.0.bias', 'transformer.3.attention.2.col_embedding.1.layer_norm.weight', 'transformer.3.attention.2.col_embedding.1.layer_norm.bias', 'transformer.3.attention.2.col_embedding.3.weight', 'transformer.3.attention.2.col_embedding.3.bias', 'transformer.3.attention.2.group_embedding.weight', 'transformer.3.attention.2.query.weight', 'transformer.3.attention.2.query.bias', 'transformer.3.attention.2.key.weight', 'transformer.3.attention.2.key.bias', 'transformer.3.attention.2.value.weight', 'transformer.3.attention.2.value.bias', 'transformer.3.attention.2.wout.weight', 'transformer.3.attention.2.wout.bias', 'transformer.3.attention.3.layer_norm.weight', 'transformer.3.attention.3.layer_norm.bias', 'transformer.3.mlp.0.weight', 'transformer.3.mlp.0.bias', 'transformer.3.mlp.1.layer_norm.weight', 'transformer.3.mlp.1.layer_norm.bias', 'transformer.3.mlp.3.weight', 'transformer.3.mlp.3.bias', 'transformer.3.mlp.4.layer_norm.weight', 'transformer.3.mlp.4.layer_norm.bias', 'transformer.4.attention.0.layer_norm.weight', 'transformer.4.attention.0.layer_norm.bias', 'transformer.4.attention.2.row_indices', 'transformer.4.attention.2.col_indices', 'transformer.4.attention.2.g_indices', 'transformer.4.attention.2.group._identity', 'transformer.4.attention.2.group._elements', 'transformer.4.attention.2.group._relative_positions', 'transformer.4.attention.2.row_embedding.0.weight', 'transformer.4.attention.2.row_embedding.0.bias', 'transformer.4.attention.2.row_embedding.1.layer_norm.weight', 'transformer.4.attention.2.row_embedding.1.layer_norm.bias', 'transformer.4.attention.2.row_embedding.3.weight', 'transformer.4.attention.2.row_embedding.3.bias', 'transformer.4.attention.2.col_embedding.0.weight', 'transformer.4.attention.2.col_embedding.0.bias', 'transformer.4.attention.2.col_embedding.1.layer_norm.weight', 'transformer.4.attention.2.col_embedding.1.layer_norm.bias', 'transformer.4.attention.2.col_embedding.3.weight', 'transformer.4.attention.2.col_embedding.3.bias', 'transformer.4.attention.2.group_embedding.weight', 'transformer.4.attention.2.query.weight', 'transformer.4.attention.2.query.bias', 'transformer.4.attention.2.key.weight', 'transformer.4.attention.2.key.bias', 'transformer.4.attention.2.value.weight', 'transformer.4.attention.2.value.bias', 'transformer.4.attention.2.wout.weight', 'transformer.4.attention.2.wout.bias', 'transformer.4.attention.3.layer_norm.weight', 'transformer.4.attention.3.layer_norm.bias', 'transformer.4.mlp.0.weight', 'transformer.4.mlp.0.bias', 'transformer.4.mlp.1.layer_norm.weight', 'transformer.4.mlp.1.layer_norm.bias', 'transformer.4.mlp.3.weight', 'transformer.4.mlp.3.bias', 'transformer.4.mlp.4.layer_norm.weight', 'transformer.4.mlp.4.layer_norm.bias', 'transformer.5.attention.0.layer_norm.weight', 'transformer.5.attention.0.layer_norm.bias', 'transformer.5.attention.2.row_indices', 'transformer.5.attention.2.col_indices', 'transformer.5.attention.2.g_indices', 'transformer.5.attention.2.group._identity', 'transformer.5.attention.2.group._elements', 'transformer.5.attention.2.group._relative_positions', 'transformer.5.attention.2.row_embedding.0.weight', 'transformer.5.attention.2.row_embedding.0.bias', 'transformer.5.attention.2.row_embedding.1.layer_norm.weight', 'transformer.5.attention.2.row_embedding.1.layer_norm.bias', 'transformer.5.attention.2.row_embedding.3.weight', 'transformer.5.attention.2.row_embedding.3.bias', 'transformer.5.attention.2.col_embedding.0.weight', 'transformer.5.attention.2.col_embedding.0.bias', 'transformer.5.attention.2.col_embedding.1.layer_norm.weight', 'transformer.5.attention.2.col_embedding.1.layer_norm.bias', 'transformer.5.attention.2.col_embedding.3.weight', 'transformer.5.attention.2.col_embedding.3.bias', 'transformer.5.attention.2.group_embedding.weight', 'transformer.5.attention.2.query.weight', 'transformer.5.attention.2.query.bias', 'transformer.5.attention.2.key.weight', 'transformer.5.attention.2.key.bias', 'transformer.5.attention.2.value.weight', 'transformer.5.attention.2.value.bias', 'transformer.5.attention.2.wout.weight', 'transformer.5.attention.2.wout.bias', 'transformer.5.attention.3.layer_norm.weight', 'transformer.5.attention.3.layer_norm.bias', 'transformer.5.mlp.0.weight', 'transformer.5.mlp.0.bias', 'transformer.5.mlp.1.layer_norm.weight', 'transformer.5.mlp.1.layer_norm.bias', 'transformer.5.mlp.3.weight', 'transformer.5.mlp.3.bias', 'transformer.5.mlp.4.layer_norm.weight', 'transformer.5.mlp.4.layer_norm.bias', 'transformer.6.weight'], unexpected_keys=['module.group._identity', 'module.group._elements', 'module.group._relative_positions', 'module.lifting_self_attention.row_indices', 'module.lifting_self_attention.col_indices', 'module.lifting_self_attention.group._identity', 'module.lifting_self_attention.group._elements', 'module.lifting_self_attention.group._relative_positions', 'module.lifting_self_attention.row_embedding.0.weight', 'module.lifting_self_attention.row_embedding.0.bias', 'module.lifting_self_attention.row_embedding.1.layer_norm.weight', 'module.lifting_self_attention.row_embedding.1.layer_norm.bias', 'module.lifting_self_attention.row_embedding.3.weight', 'module.lifting_self_attention.row_embedding.3.bias', 'module.lifting_self_attention.col_embedding.0.weight', 'module.lifting_self_attention.col_embedding.0.bias', 'module.lifting_self_attention.col_embedding.1.layer_norm.weight', 'module.lifting_self_attention.col_embedding.1.layer_norm.bias', 'module.lifting_self_attention.col_embedding.3.weight', 'module.lifting_self_attention.col_embedding.3.bias', 'module.lifting_self_attention.query.weight', 'module.lifting_self_attention.query.bias', 'module.lifting_self_attention.key.weight', 'module.lifting_self_attention.key.bias', 'module.lifting_self_attention.value.weight', 'module.lifting_self_attention.value.bias', 'module.lifting_self_attention.wout.weight', 'module.lifting_self_attention.wout.bias', 'module.lifting_normalization.layer_norm.weight', 'module.lifting_normalization.layer_norm.bias', 'module.transformer.0.attention.0.layer_norm.weight', 'module.transformer.0.attention.0.layer_norm.bias', 'module.transformer.0.attention.2.row_indices', 'module.transformer.0.attention.2.col_indices', 'module.transformer.0.attention.2.g_indices', 'module.transformer.0.attention.2.group._identity', 'module.transformer.0.attention.2.group._elements', 'module.transformer.0.attention.2.group._relative_positions', 'module.transformer.0.attention.2.row_embedding.0.weight', 'module.transformer.0.attention.2.row_embedding.0.bias', 'module.transformer.0.attention.2.row_embedding.1.layer_norm.weight', 'module.transformer.0.attention.2.row_embedding.1.layer_norm.bias', 'module.transformer.0.attention.2.row_embedding.3.weight', 'module.transformer.0.attention.2.row_embedding.3.bias', 'module.transformer.0.attention.2.col_embedding.0.weight', 'module.transformer.0.attention.2.col_embedding.0.bias', 'module.transformer.0.attention.2.col_embedding.1.layer_norm.weight', 'module.transformer.0.attention.2.col_embedding.1.layer_norm.bias', 'module.transformer.0.attention.2.col_embedding.3.weight', 'module.transformer.0.attention.2.col_embedding.3.bias', 'module.transformer.0.attention.2.group_embedding.weight', 'module.transformer.0.attention.2.query.weight', 'module.transformer.0.attention.2.query.bias', 'module.transformer.0.attention.2.key.weight', 'module.transformer.0.attention.2.key.bias', 'module.transformer.0.attention.2.value.weight', 'module.transformer.0.attention.2.value.bias', 'module.transformer.0.attention.2.wout.weight', 'module.transformer.0.attention.2.wout.bias', 'module.transformer.0.attention.3.layer_norm.weight', 'module.transformer.0.attention.3.layer_norm.bias', 'module.transformer.0.mlp.0.weight', 'module.transformer.0.mlp.0.bias', 'module.transformer.0.mlp.1.layer_norm.weight', 'module.transformer.0.mlp.1.layer_norm.bias', 'module.transformer.0.mlp.3.weight', 'module.transformer.0.mlp.3.bias', 'module.transformer.0.mlp.4.layer_norm.weight', 'module.transformer.0.mlp.4.layer_norm.bias', 'module.transformer.1.attention.0.layer_norm.weight', 'module.transformer.1.attention.0.layer_norm.bias', 'module.transformer.1.attention.2.row_indices', 'module.transformer.1.attention.2.col_indices', 'module.transformer.1.attention.2.g_indices', 'module.transformer.1.attention.2.group._identity', 'module.transformer.1.attention.2.group._elements', 'module.transformer.1.attention.2.group._relative_positions', 'module.transformer.1.attention.2.row_embedding.0.weight', 'module.transformer.1.attention.2.row_embedding.0.bias', 'module.transformer.1.attention.2.row_embedding.1.layer_norm.weight', 'module.transformer.1.attention.2.row_embedding.1.layer_norm.bias', 'module.transformer.1.attention.2.row_embedding.3.weight', 'module.transformer.1.attention.2.row_embedding.3.bias', 'module.transformer.1.attention.2.col_embedding.0.weight', 'module.transformer.1.attention.2.col_embedding.0.bias', 'module.transformer.1.attention.2.col_embedding.1.layer_norm.weight', 'module.transformer.1.attention.2.col_embedding.1.layer_norm.bias', 'module.transformer.1.attention.2.col_embedding.3.weight', 'module.transformer.1.attention.2.col_embedding.3.bias', 'module.transformer.1.attention.2.group_embedding.weight', 'module.transformer.1.attention.2.query.weight', 'module.transformer.1.attention.2.query.bias', 'module.transformer.1.attention.2.key.weight', 'module.transformer.1.attention.2.key.bias', 'module.transformer.1.attention.2.value.weight', 'module.transformer.1.attention.2.value.bias', 'module.transformer.1.attention.2.wout.weight', 'module.transformer.1.attention.2.wout.bias', 'module.transformer.1.attention.3.layer_norm.weight', 'module.transformer.1.attention.3.layer_norm.bias', 'module.transformer.1.mlp.0.weight', 'module.transformer.1.mlp.0.bias', 'module.transformer.1.mlp.1.layer_norm.weight', 'module.transformer.1.mlp.1.layer_norm.bias', 'module.transformer.1.mlp.3.weight', 'module.transformer.1.mlp.3.bias', 'module.transformer.1.mlp.4.layer_norm.weight', 'module.transformer.1.mlp.4.layer_norm.bias', 'module.transformer.3.attention.0.layer_norm.weight', 'module.transformer.3.attention.0.layer_norm.bias', 'module.transformer.3.attention.2.row_indices', 'module.transformer.3.attention.2.col_indices', 'module.transformer.3.attention.2.g_indices', 'module.transformer.3.attention.2.group._identity', 'module.transformer.3.attention.2.group._elements', 'module.transformer.3.attention.2.group._relative_positions', 'module.transformer.3.attention.2.row_embedding.0.weight', 'module.transformer.3.attention.2.row_embedding.0.bias', 'module.transformer.3.attention.2.row_embedding.1.layer_norm.weight', 'module.transformer.3.attention.2.row_embedding.1.layer_norm.bias', 'module.transformer.3.attention.2.row_embedding.3.weight', 'module.transformer.3.attention.2.row_embedding.3.bias', 'module.transformer.3.attention.2.col_embedding.0.weight', 'module.transformer.3.attention.2.col_embedding.0.bias', 'module.transformer.3.attention.2.col_embedding.1.layer_norm.weight', 'module.transformer.3.attention.2.col_embedding.1.layer_norm.bias', 'module.transformer.3.attention.2.col_embedding.3.weight', 'module.transformer.3.attention.2.col_embedding.3.bias', 'module.transformer.3.attention.2.group_embedding.weight', 'module.transformer.3.attention.2.query.weight', 'module.transformer.3.attention.2.query.bias', 'module.transformer.3.attention.2.key.weight', 'module.transformer.3.attention.2.key.bias', 'module.transformer.3.attention.2.value.weight', 'module.transformer.3.attention.2.value.bias', 'module.transformer.3.attention.2.wout.weight', 'module.transformer.3.attention.2.wout.bias', 'module.transformer.3.attention.3.layer_norm.weight', 'module.transformer.3.attention.3.layer_norm.bias', 'module.transformer.3.mlp.0.weight', 'module.transformer.3.mlp.0.bias', 'module.transformer.3.mlp.1.layer_norm.weight', 'module.transformer.3.mlp.1.layer_norm.bias', 'module.transformer.3.mlp.3.weight', 'module.transformer.3.mlp.3.bias', 'module.transformer.3.mlp.4.layer_norm.weight', 'module.transformer.3.mlp.4.layer_norm.bias', 'module.transformer.4.attention.0.layer_norm.weight', 'module.transformer.4.attention.0.layer_norm.bias', 'module.transformer.4.attention.2.row_indices', 'module.transformer.4.attention.2.col_indices', 'module.transformer.4.attention.2.g_indices', 'module.transformer.4.attention.2.group._identity', 'module.transformer.4.attention.2.group._elements', 'module.transformer.4.attention.2.group._relative_positions', 'module.transformer.4.attention.2.row_embedding.0.weight', 'module.transformer.4.attention.2.row_embedding.0.bias', 'module.transformer.4.attention.2.row_embedding.1.layer_norm.weight', 'module.transformer.4.attention.2.row_embedding.1.layer_norm.bias', 'module.transformer.4.attention.2.row_embedding.3.weight', 'module.transformer.4.attention.2.row_embedding.3.bias', 'module.transformer.4.attention.2.col_embedding.0.weight', 'module.transformer.4.attention.2.col_embedding.0.bias', 'module.transformer.4.attention.2.col_embedding.1.layer_norm.weight', 'module.transformer.4.attention.2.col_embedding.1.layer_norm.bias', 'module.transformer.4.attention.2.col_embedding.3.weight', 'module.transformer.4.attention.2.col_embedding.3.bias', 'module.transformer.4.attention.2.group_embedding.weight', 'module.transformer.4.attention.2.query.weight', 'module.transformer.4.attention.2.query.bias', 'module.transformer.4.attention.2.key.weight', 'module.transformer.4.attention.2.key.bias', 'module.transformer.4.attention.2.value.weight', 'module.transformer.4.attention.2.value.bias', 'module.transformer.4.attention.2.wout.weight', 'module.transformer.4.attention.2.wout.bias', 'module.transformer.4.attention.3.layer_norm.weight', 'module.transformer.4.attention.3.layer_norm.bias', 'module.transformer.4.mlp.0.weight', 'module.transformer.4.mlp.0.bias', 'module.transformer.4.mlp.1.layer_norm.weight', 'module.transformer.4.mlp.1.layer_norm.bias', 'module.transformer.4.mlp.3.weight', 'module.transformer.4.mlp.3.bias', 'module.transformer.4.mlp.4.layer_norm.weight', 'module.transformer.4.mlp.4.layer_norm.bias', 'module.transformer.5.attention.0.layer_norm.weight', 'module.transformer.5.attention.0.layer_norm.bias', 'module.transformer.5.attention.2.row_indices', 'module.transformer.5.attention.2.col_indices', 'module.transformer.5.attention.2.g_indices', 'module.transformer.5.attention.2.group._identity', 'module.transformer.5.attention.2.group._elements', 'module.transformer.5.attention.2.group._relative_positions', 'module.transformer.5.attention.2.row_embedding.0.weight', 'module.transformer.5.attention.2.row_embedding.0.bias', 'module.transformer.5.attention.2.row_embedding.1.layer_norm.weight', 'module.transformer.5.attention.2.row_embedding.1.layer_norm.bias', 'module.transformer.5.attention.2.row_embedding.3.weight', 'module.transformer.5.attention.2.row_embedding.3.bias', 'module.transformer.5.attention.2.col_embedding.0.weight', 'module.transformer.5.attention.2.col_embedding.0.bias', 'module.transformer.5.attention.2.col_embedding.1.layer_norm.weight', 'module.transformer.5.attention.2.col_embedding.1.layer_norm.bias', 'module.transformer.5.attention.2.col_embedding.3.weight', 'module.transformer.5.attention.2.col_embedding.3.bias', 'module.transformer.5.attention.2.group_embedding.weight', 'module.transformer.5.attention.2.query.weight', 'module.transformer.5.attention.2.query.bias', 'module.transformer.5.attention.2.key.weight', 'module.transformer.5.attention.2.key.bias', 'module.transformer.5.attention.2.value.weight', 'module.transformer.5.attention.2.value.bias', 'module.transformer.5.attention.2.wout.weight', 'module.transformer.5.attention.2.wout.bias', 'module.transformer.5.attention.3.layer_norm.weight', 'module.transformer.5.attention.3.layer_norm.bias', 'module.transformer.5.mlp.0.weight', 'module.transformer.5.mlp.0.bias', 'module.transformer.5.mlp.1.layer_norm.weight', 'module.transformer.5.mlp.1.layer_norm.bias', 'module.transformer.5.mlp.3.weight', 'module.transformer.5.mlp.3.bias', 'module.transformer.5.mlp.4.layer_norm.weight', 'module.transformer.5.mlp.4.layer_norm.bias', 'module.transformer.6.weight'])"
      ]
     },
     "execution_count": 13,
     "metadata": {},
     "output_type": "execute_result"
    }
   ],
   "source": [
    "model = models.GroupTransformer(\n",
    "    group=groups.E2(num_elements=8),\n",
    "    in_channels=1,\n",
    "    num_channels=20,\n",
    "    block_sizes=[2, 3],\n",
    "    expansion_per_block=1,\n",
    "    crop_per_layer=[2, 0, 2, 1, 1],\n",
    "    image_size=28,\n",
    "    num_classes=2,\n",
    "    dropout_rate_after_maxpooling=0.0,\n",
    "    maxpool_after_last_block=False,\n",
    "    normalize_between_layers=False,\n",
    "    patch_size=5,\n",
    "    num_heads=9,\n",
    "    norm_type=\"LayerNorm\",\n",
    "    activation_function=\"Swish\",\n",
    "    attention_dropout_rate=0.1,\n",
    "    value_dropout_rate=0.1,\n",
    "    whitening_scale=1.41421356,\n",
    ")\n",
    "model_path = \"../saved/rotMNIST_model_p4msa_type_Local_patch_5_dpatt_0.1_dpval_0.1_activ_Swish_norm_LayerNorm_white_1.41421356_optim_Adam_lr_0.001_bs_16_ep_50_wd_0.0001_seed_0_sched_constants_schdec_1.0.pt\"\n",
    "device = torch.device('cuda' if torch.cuda.is_available() else 'cpu')\n",
    "model.load_state_dict(torch.load(model_path, map_location=device), strict=False)"
   ]
  },
  {
   "cell_type": "code",
   "execution_count": 33,
   "metadata": {},
   "outputs": [],
   "source": [
    "data_mean = (0.1307,)\n",
    "data_stddev = (0.3081,)\n",
    "transform_test = torchvision.transforms.Compose(\n",
    "    [\n",
    "        torchvision.transforms.ToTensor(),\n",
    "        torchvision.transforms.Normalize(data_mean, data_stddev),\n",
    "    ]\n",
    ")\n",
    "test_set = MNIST_rot(root=\"../data\", stage=\"test\", download=True, transform=transform_test, data_fraction=1, only_3_and_8=True)\n",
    "test_loader = torch.utils.data.DataLoader(\n",
    "    test_set,\n",
    "    batch_size=1,\n",
    "    shuffle=False,\n",
    "    num_workers=4,\n",
    ")"
   ]
  },
  {
   "cell_type": "code",
   "execution_count": 46,
   "metadata": {},
   "outputs": [
    {
     "name": "stdout",
     "output_type": "stream",
     "text": [
      "Target: 3\n"
     ]
    },
    {
     "data": {
      "image/png": "[encoded data removed]",
      "text/plain": [
       "<Figure size 432x288 with 1 Axes>"
      ]
     },
     "metadata": {
      "needs_background": "light"
     },
     "output_type": "display_data"
    },
    {
     "name": "stdout",
     "output_type": "stream",
     "text": [
      "3 with probability 0.9998062252998352\n"
     ]
    }
   ],
   "source": [
    "idx_2_target = {\n",
    "    0: 3,\n",
    "    1: 8\n",
    "}\n",
    "\n",
    "with torch.no_grad():\n",
    "    example_image, example_idx = next(iter(test_loader))\n",
    "    out = model(example_image)\n",
    "    example_image = example_image.squeeze()  # Batch dimension\n",
    "    print(f\"Target: {idx_2_target[example_idx.item()]}\")\n",
    "    plt.imshow(example_image.cpu().numpy(), cmap=\"gray\")\n",
    "    plt.show()\n",
    "    _, preds = torch.max(out, 1)\n",
    "    print(f\"{idx_2_target[preds.item()]} with probability {torch.softmax(out, dim=1)[0][preds].item()}\")"
   ]
  },
  {
   "cell_type": "code",
   "execution_count": 47,
   "metadata": {},
   "outputs": [],
   "source": [
    "# todo visualize attention and all the different layers\n",
    "# just a bunch of explainability"
   ]
  }
 ],
 "metadata": {
  "kernelspec": {
   "display_name": "dl2",
   "language": "python",
   "name": "python3"
  },
  "language_info": {
   "codemirror_mode": {
    "name": "ipython",
    "version": 3
   },
   "file_extension": ".py",
   "mimetype": "text/x-python",
   "name": "python",
   "nbconvert_exporter": "python",
   "pygments_lexer": "ipython3",
   "version": "3.7.7"
  }
 },
 "nbformat": 4,
 "nbformat_minor": 2
}
